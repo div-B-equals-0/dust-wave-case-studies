{
 "cells": [
  {
   "cell_type": "code",
   "execution_count": 1,
   "metadata": {},
   "outputs": [],
   "source": [
    "import numpy as np\n",
    "from astropy.table import Table\n",
    "import pandas as pd\n",
    "from matplotlib import pyplot as plt\n",
    "%matplotlib inline\n",
    "import seaborn as sns"
   ]
  },
  {
   "cell_type": "markdown",
   "metadata": {},
   "source": [
    "### Read in bow shock data from Kobulnicky:2017a"
   ]
  },
  {
   "cell_type": "code",
   "execution_count": 4,
   "metadata": {},
   "outputs": [],
   "source": [
    "tab01 = Table.read(\"data/Kobulnicky2017/J_AJ_154_201_table1.dat.fits\")"
   ]
  },
  {
   "cell_type": "code",
   "execution_count": 28,
   "metadata": {},
   "outputs": [
    {
     "data": {
      "text/html": [
       "&lt;Table length=5&gt;\n",
       "<table id=\"table4682978528\" class=\"table-striped table-bordered table-condensed\">\n",
       "<thead><tr><th>ID</th><th>Name</th><th>RAh</th><th>RAm</th><th>RAs</th><th>DE-</th><th>DEd</th><th>DEm</th><th>DEs</th><th>Rad</th><th>Height</th><th>l_F3.6</th><th>F3.6</th><th>l_F4.5</th><th>F4.5</th><th>l_F5.8</th><th>F5.8</th><th>l_F8.0</th><th>F8.0</th><th>F24</th><th>l_F70</th><th>F70</th><th>l_F160</th><th>F160</th><th>I70</th><th>T24/70</th><th>T70/160</th></tr></thead>\n",
       "<thead><tr><th></th><th></th><th>h</th><th>min</th><th>s</th><th></th><th>deg</th><th>arcmin</th><th>arcsec</th><th>arcsec</th><th>arcsec</th><th></th><th>Jy</th><th></th><th>Jy</th><th></th><th>Jy</th><th></th><th>Jy</th><th>Jy</th><th></th><th>Jy</th><th></th><th>Jy</th><th>Jy / arcmin2</th><th>K</th><th>K</th></tr></thead>\n",
       "<thead><tr><th>int32</th><th>str17</th><th>int32</th><th>int32</th><th>float64</th><th>str1</th><th>int32</th><th>int32</th><th>float64</th><th>int32</th><th>int32</th><th>str1</th><th>float64</th><th>str1</th><th>float64</th><th>str1</th><th>float64</th><th>str1</th><th>float64</th><th>float64</th><th>str1</th><th>float64</th><th>str1</th><th>float64</th><th>float64</th><th>int32</th><th>int32</th></tr></thead>\n",
       "<tr><td>65</td><td>G016.9278+00.6323</td><td>18</td><td>19</td><td>20.04</td><td>-</td><td>13</td><td>54</td><td>21.3</td><td>7</td><td>8</td><td>&lt;</td><td>0.01</td><td>&lt;</td><td>0.007</td><td>&lt;</td><td>0.022</td><td>&lt;</td><td>0.015</td><td>4.147</td><td>&lt;</td><td>1.2</td><td>&lt;</td><td>2.0</td><td>-99.9</td><td>-99</td><td>-99</td></tr>\n",
       "<tr><td>67</td><td>G017.0826+00.9744</td><td>18</td><td>18</td><td>23.65</td><td>-</td><td>13</td><td>36</td><td>27.9</td><td>9</td><td>9</td><td>&lt;</td><td>0.053</td><td>&lt;</td><td>0.064</td><td>&lt;</td><td>0.024</td><td></td><td>0.31</td><td>27.659</td><td></td><td>4.41</td><td>&lt;</td><td>5.4</td><td>38.7</td><td>708</td><td>-99</td></tr>\n",
       "<tr><td>68</td><td>G017.1263+01.0462</td><td>18</td><td>18</td><td>13.14</td><td>-</td><td>13</td><td>32</td><td>7.0</td><td>6</td><td>7</td><td>&lt;</td><td>0.013</td><td>&lt;</td><td>0.042</td><td>&lt;</td><td>0.031</td><td></td><td>0.141</td><td>1.901</td><td>&lt;</td><td>8.1</td><td>&lt;</td><td>7.4</td><td>-99.9</td><td>-99</td><td>-99</td></tr>\n",
       "<tr><td>69</td><td>G017.2748-00.4885</td><td>18</td><td>24</td><td>5.08</td><td>-</td><td>14</td><td>7</td><td>36.5</td><td>11</td><td>10</td><td>&lt;</td><td>0.17</td><td>&lt;</td><td>0.118</td><td>&lt;</td><td>0.091</td><td>&lt;</td><td>0.034</td><td>1.581</td><td>&lt;</td><td>0.6</td><td>&lt;</td><td>3.1</td><td>-99.9</td><td>-99</td><td>-99</td></tr>\n",
       "<tr><td>70</td><td>G017.7109-00.3881</td><td>18</td><td>24</td><td>33.59</td><td>-</td><td>13</td><td>41</td><td>39.8</td><td>5</td><td>6</td><td>&lt;</td><td>0.004</td><td>&lt;</td><td>0.003</td><td>&lt;</td><td>0.011</td><td>&lt;</td><td>0.009</td><td>1.47</td><td></td><td>0.61</td><td></td><td>0.47</td><td>14.1</td><td>204</td><td>57</td></tr>\n",
       "</table>"
      ],
      "text/plain": [
       "<Table length=5>\n",
       "  ID         Name        RAh   RAm  ...   F160      I70      T24/70 T70/160\n",
       "                          h    min  ...    Jy   Jy / arcmin2   K       K   \n",
       "int32       str17       int32 int32 ... float64   float64    int32   int32 \n",
       "----- ----------------- ----- ----- ... ------- ------------ ------ -------\n",
       "   65 G016.9278+00.6323    18    19 ...     2.0        -99.9    -99     -99\n",
       "   67 G017.0826+00.9744    18    18 ...     5.4         38.7    708     -99\n",
       "   68 G017.1263+01.0462    18    18 ...     7.4        -99.9    -99     -99\n",
       "   69 G017.2748-00.4885    18    24 ...     3.1        -99.9    -99     -99\n",
       "   70 G017.7109-00.3881    18    24 ...    0.47         14.1    204      57"
      ]
     },
     "execution_count": 28,
     "metadata": {},
     "output_type": "execute_result"
    }
   ],
   "source": [
    "tab01[60:65]"
   ]
  },
  {
   "cell_type": "code",
   "execution_count": 8,
   "metadata": {},
   "outputs": [],
   "source": [
    "tab02 = Table.read(\"data/Kobulnicky2017/J_AJ_154_201_table2.dat.fits\")"
   ]
  },
  {
   "cell_type": "code",
   "execution_count": 9,
   "metadata": {},
   "outputs": [
    {
     "data": {
      "text/html": [
       "&lt;Table length=10&gt;\n",
       "<table id=\"table4681014016\" class=\"table-striped table-bordered table-condensed\">\n",
       "<thead><tr><th>ID</th><th>Name</th><th>RAh</th><th>RAm</th><th>RAs</th><th>DE-</th><th>DEd</th><th>DEm</th><th>DEs</th><th>Rad</th><th>Height</th><th>l_F3.4</th><th>F3.4</th><th>l_F4.6</th><th>F4.6</th><th>l_F12</th><th>F12</th><th>F22</th><th>l_F70</th><th>F70</th><th>l_F160</th><th>F160</th><th>I70</th><th>T22/70</th><th>T70/160</th></tr></thead>\n",
       "<thead><tr><th></th><th></th><th>h</th><th>min</th><th>s</th><th></th><th>deg</th><th>arcmin</th><th>arcsec</th><th>arcsec</th><th>arcsec</th><th></th><th>Jy</th><th></th><th>Jy</th><th></th><th>Jy</th><th>Jy</th><th></th><th>Jy</th><th></th><th>Jy</th><th>Jy / arcmin2</th><th>K</th><th>K</th></tr></thead>\n",
       "<thead><tr><th>int32</th><th>str17</th><th>int32</th><th>int32</th><th>float64</th><th>str1</th><th>int32</th><th>int32</th><th>float64</th><th>int32</th><th>int32</th><th>str1</th><th>float64</th><th>str1</th><th>float64</th><th>str1</th><th>float64</th><th>float64</th><th>str1</th><th>float64</th><th>str1</th><th>float64</th><th>float64</th><th>int32</th><th>int32</th></tr></thead>\n",
       "<tr><td>13</td><td>G006.2812+23.5877</td><td>16</td><td>37</td><td>9.54</td><td>-</td><td>10</td><td>34</td><td>1.5</td><td>173</td><td>404</td><td></td><td>6.25</td><td></td><td>7.995</td><td></td><td>51.32</td><td>343.77</td><td></td><td>246.7</td><td></td><td>61.55</td><td>9.8</td><td>158</td><td>240</td></tr>\n",
       "<tr><td>39</td><td>G013.4900+01.6618</td><td>18</td><td>8</td><td>46.51</td><td>-</td><td>16</td><td>25</td><td>56.9</td><td>108</td><td>92</td><td>&lt;</td><td>0.675</td><td>&lt;</td><td>0.677</td><td></td><td>3.406</td><td>21.43</td><td></td><td>-99.999</td><td></td><td>-99.999</td><td>-99.9</td><td>-99</td><td>-99</td></tr>\n",
       "<tr><td>54</td><td>G015.0813-00.6570</td><td>18</td><td>5</td><td>58.84</td><td>-</td><td>14</td><td>11</td><td>53.0</td><td>101</td><td>91</td><td>&lt;</td><td>0.113</td><td>&lt;</td><td>0.472</td><td></td><td>3.298</td><td>28.885</td><td></td><td>-99.999</td><td></td><td>-99.999</td><td>-99.9</td><td>-99</td><td>-99</td></tr>\n",
       "<tr><td>64</td><td>G016.8993-01.1152</td><td>18</td><td>25</td><td>38.9</td><td>-</td><td>14</td><td>45</td><td>5.7</td><td>53</td><td>39</td><td>&lt;</td><td>0.265</td><td>&lt;</td><td>0.403</td><td></td><td>4.194</td><td>20.757</td><td></td><td>-99.999</td><td></td><td>-99.999</td><td>-99.9</td><td>-99</td><td>-99</td></tr>\n",
       "<tr><td>66</td><td>G016.9848+01.7482</td><td>18</td><td>15</td><td>23.97</td><td>-</td><td>13</td><td>19</td><td>35.3</td><td>102</td><td>127</td><td></td><td>0.368</td><td></td><td>0.509</td><td></td><td>9.384</td><td>52.448</td><td></td><td>-99.999</td><td></td><td>-99.999</td><td>-99.9</td><td>-99</td><td>-99</td></tr>\n",
       "<tr><td>154</td><td>G031.1096+03.6457</td><td>18</td><td>35</td><td>8.21</td><td>+</td><td>0</td><td>2</td><td>34.8</td><td>30</td><td>28</td><td></td><td>0.053</td><td></td><td>0.048</td><td></td><td>0.184</td><td>0.79</td><td></td><td>-99.999</td><td></td><td>-99.999</td><td>-99.9</td><td>-99</td><td>-99</td></tr>\n",
       "<tr><td>240</td><td>G045.9397+03.2506</td><td>19</td><td>3</td><td>40.72</td><td>+</td><td>13</td><td>3</td><td>11.5</td><td>17</td><td>18</td><td>&lt;</td><td>0.01</td><td>&lt;</td><td>0.005</td><td>&lt;</td><td>0.005</td><td>0.01</td><td></td><td>-99.999</td><td></td><td>-99.999</td><td>-99.9</td><td>-99</td><td>-99</td></tr>\n",
       "<tr><td>272</td><td>G050.9339+03.0747</td><td>19</td><td>13</td><td>48.34</td><td>+</td><td>17</td><td>24</td><td>15.5</td><td>16</td><td>21</td><td>&lt;</td><td>0.008</td><td>&lt;</td><td>0.004</td><td>&lt;</td><td>0.005</td><td>0.025</td><td></td><td>-99.999</td><td></td><td>-99.999</td><td>-99.9</td><td>-99</td><td>-99</td></tr>\n",
       "<tr><td>298</td><td>G059.9225-01.9671</td><td>19</td><td>51</td><td>8.28</td><td>+</td><td>22</td><td>49</td><td>53.9</td><td>13</td><td>13</td><td></td><td>0.024</td><td></td><td>0.02</td><td></td><td>0.037</td><td>0.142</td><td></td><td>-99.999</td><td></td><td>-99.999</td><td>-99.9</td><td>-99</td><td>-99</td></tr>\n",
       "<tr><td>310</td><td>G061.8355+02.9452</td><td>19</td><td>36</td><td>31.44</td><td>+</td><td>26</td><td>56</td><td>30.2</td><td>25</td><td>25</td><td>&lt;</td><td>0.015</td><td>&lt;</td><td>0.008</td><td>&lt;</td><td>0.001</td><td>0.065</td><td></td><td>-99.999</td><td></td><td>-99.999</td><td>-99.9</td><td>-99</td><td>-99</td></tr>\n",
       "</table>"
      ],
      "text/plain": [
       "<Table length=10>\n",
       "  ID         Name        RAh   RAm  ...   F160      I70      T22/70 T70/160\n",
       "                          h    min  ...    Jy   Jy / arcmin2   K       K   \n",
       "int32       str17       int32 int32 ... float64   float64    int32   int32 \n",
       "----- ----------------- ----- ----- ... ------- ------------ ------ -------\n",
       "   13 G006.2812+23.5877    16    37 ...   61.55          9.8    158     240\n",
       "   39 G013.4900+01.6618    18     8 ... -99.999        -99.9    -99     -99\n",
       "   54 G015.0813-00.6570    18     5 ... -99.999        -99.9    -99     -99\n",
       "   64 G016.8993-01.1152    18    25 ... -99.999        -99.9    -99     -99\n",
       "   66 G016.9848+01.7482    18    15 ... -99.999        -99.9    -99     -99\n",
       "  154 G031.1096+03.6457    18    35 ... -99.999        -99.9    -99     -99\n",
       "  240 G045.9397+03.2506    19     3 ... -99.999        -99.9    -99     -99\n",
       "  272 G050.9339+03.0747    19    13 ... -99.999        -99.9    -99     -99\n",
       "  298 G059.9225-01.9671    19    51 ... -99.999        -99.9    -99     -99\n",
       "  310 G061.8355+02.9452    19    36 ... -99.999        -99.9    -99     -99"
      ]
     },
     "execution_count": 9,
     "metadata": {},
     "output_type": "execute_result"
    }
   ],
   "source": [
    "tab02[:10]"
   ]
  },
  {
   "cell_type": "markdown",
   "metadata": {},
   "source": [
    "There is something wrong with Table 5.  There is an integer column that contains `'---'` strings, which need dealing with or the reader will crash. This doesn't seem to be possible with the FITS table reader, so we resort to ascii, where we can fix it with the `fill_values` parameter."
   ]
  },
  {
   "cell_type": "code",
   "execution_count": 16,
   "metadata": {},
   "outputs": [],
   "source": [
    "tab05 = Table.read(\"data/Kobulnicky2017/table5.dat\", \n",
    "                   fill_values=[('---', -1)], \n",
    "                   format='ascii.cds', \n",
    "                   readme=\"data/Kobulnicky2017/ReadMe\")"
   ]
  },
  {
   "cell_type": "code",
   "execution_count": 14,
   "metadata": {},
   "outputs": [
    {
     "data": {
      "text/html": [
       "&lt;Table masked=True length=20&gt;\n",
       "<table id=\"table4682594568\" class=\"table-striped table-bordered table-condensed\">\n",
       "<thead><tr><th>ID</th><th>Name1</th><th>Name</th><th>SpType</th><th>Teff</th><th>R*</th><th>Dist</th><th>Dist1</th><th>Dist2</th><th>U</th><th>TSS</th><th>T22/T70</th><th>T70/160</th><th>FIR</th><th>L*/LIR</th></tr></thead>\n",
       "<thead><tr><th></th><th></th><th></th><th></th><th>K</th><th>solRad</th><th>kpc</th><th>arcsec</th><th>pc</th><th></th><th>K</th><th>K</th><th>K</th><th>mW / m2</th><th></th></tr></thead>\n",
       "<thead><tr><th>int64</th><th>str15</th><th>str17</th><th>str11</th><th>int64</th><th>float64</th><th>float64</th><th>float64</th><th>float64</th><th>float64</th><th>int64</th><th>int64</th><th>int64</th><th>float64</th><th>float64</th></tr></thead>\n",
       "<tr><td>13</td><td>zeta Oph</td><td>G006.2812+23.5877</td><td>O9.2IV</td><td>31000</td><td>7.2</td><td>0.14</td><td>29.0</td><td>0.02</td><td>170000.0</td><td>123</td><td>158</td><td>240</td><td>6.4e-08</td><td>1110.0</td></tr>\n",
       "<tr><td>67</td><td>NGC 6611 ESL 45</td><td>G017.0826+00.9744</td><td>O9V</td><td>31500</td><td>7.7</td><td>1.99</td><td>7.5</td><td>0.07</td><td>16000.0</td><td>82</td><td>842</td><td>--</td><td>5.8e-08</td><td>8.4</td></tr>\n",
       "<tr><td>329</td><td>KGK 2010 10</td><td>G077.0505-00.6094</td><td>O7V</td><td>35500</td><td>9.3</td><td>1.32</td><td>10.0</td><td>0.06</td><td>46000.0</td><td>98</td><td>131</td><td>--</td><td>5.1e-10</td><td>4400.0</td></tr>\n",
       "<tr><td>331</td><td>LS II+39 53</td><td>G078.2869+00.7780</td><td>O7V</td><td>35500</td><td>9.3</td><td>1.32</td><td>25.0</td><td>0.18</td><td>7300.0</td><td>72</td><td>195</td><td>--</td><td>5.3e-09</td><td>430.0</td></tr>\n",
       "<tr><td>338</td><td>CPR2002A10</td><td>G078.8223+00.0959</td><td>O9V</td><td>31500</td><td>7.7</td><td>1.32</td><td>23.0</td><td>0.15</td><td>3800.0</td><td>65</td><td>110</td><td>--</td><td>6.9e-09</td><td>160.0</td></tr>\n",
       "<tr><td>339</td><td>CPR2002A37</td><td>G080.2400+00.1354</td><td>O5V</td><td>41500</td><td>11.1</td><td>1.32</td><td>70.0</td><td>0.45</td><td>2600.0</td><td>61</td><td>120</td><td>--</td><td>6e-09</td><td>1100.0</td></tr>\n",
       "<tr><td>341</td><td>KGK2010 1</td><td>G080.8621+00.9749</td><td>B2V</td><td>20900</td><td>5.4</td><td>1.32</td><td>20.0</td><td>0.13</td><td>470.0</td><td>46</td><td>126</td><td>--</td><td>1.9e-09</td><td>43.0</td></tr>\n",
       "<tr><td>342</td><td>KGK2010 2</td><td>G080.9020+00.9828</td><td>B2V</td><td>20900</td><td>5.4</td><td>1.32</td><td>10.0</td><td>0.06</td><td>1900.0</td><td>58</td><td>70</td><td>69</td><td>6e-10</td><td>140.0</td></tr>\n",
       "<tr><td>344</td><td>BD+43 3654</td><td>G082.4100+02.3254</td><td>O4If</td><td>40700</td><td>19.0</td><td>1.32</td><td>193.0</td><td>1.24</td><td>910.0</td><td>51</td><td>98</td><td>174</td><td>5e-08</td><td>350.0</td></tr>\n",
       "<tr><td>368</td><td>KM Cas</td><td>G134.3552+00.8182</td><td>O9.5V</td><td>30500</td><td>7.4</td><td>2.0</td><td>14.0</td><td>0.13</td><td>3700.0</td><td>64</td><td>96</td><td>--</td><td>1.4e-10</td><td>2400.0</td></tr>\n",
       "<tr><td>369</td><td>BD+60 586</td><td>G137.4203+01.2792</td><td>O7.5V/O8III</td><td>34400</td><td>8.9</td><td>2.0</td><td>73.0</td><td>0.71</td><td>320.0</td><td>43</td><td>81</td><td>148</td><td>1.4e-09</td><td>640.0</td></tr>\n",
       "<tr><td>380</td><td>HD 53367</td><td>G223.7092-01.9008</td><td>B0IVe</td><td>30000</td><td>7.4</td><td>0.26</td><td>15.0</td><td>0.02</td><td>180000.0</td><td>124</td><td>183</td><td>--</td><td>3.3e-09</td><td>5400.0</td></tr>\n",
       "<tr><td>381</td><td>HD 54662</td><td>G224.1685-00.7784</td><td>O7V</td><td>35500</td><td>9.4</td><td>0.63</td><td>71.0</td><td>0.22</td><td>4200.0</td><td>66</td><td>82</td><td>--</td><td>4.4e-09</td><td>2300.0</td></tr>\n",
       "<tr><td>382</td><td>FN CMa</td><td>G224.7096-01.7938</td><td>B2Ia</td><td>17600</td><td>30.0</td><td>0.93</td><td>101.0</td><td>0.45</td><td>580.0</td><td>47</td><td>100</td><td>--</td><td>3.2e-09</td><td>980.0</td></tr>\n",
       "<tr><td>406</td><td>HD 92607</td><td>G287.1148-01.0236</td><td>O8V+O9V</td><td>33400</td><td>8.5</td><td>2.3</td><td>16.0</td><td>0.18</td><td>4100.0</td><td>66</td><td>230</td><td>--</td><td>1.9e-09</td><td>300.0</td></tr>\n",
       "<tr><td>407</td><td>HD 93249</td><td>G287.4071-00.3593</td><td>O9III</td><td>33400</td><td>13.6</td><td>2.3</td><td>7.8</td><td>0.09</td><td>31000.0</td><td>92</td><td>141</td><td>--</td><td>6.3e-09</td><td>160.0</td></tr>\n",
       "<tr><td>409</td><td>HD 93027</td><td>G287.6131-01.1302</td><td>O9.5IV</td><td>30500</td><td>7.4</td><td>2.3</td><td>7.4</td><td>0.08</td><td>9900.0</td><td>76</td><td>229</td><td>--</td><td>7.6e-10</td><td>330.0</td></tr>\n",
       "<tr><td>410</td><td>HD 305536</td><td>G287.6736-01.0093</td><td>O9.5V+?</td><td>30500</td><td>7.4</td><td>2.3</td><td>3.7</td><td>0.04</td><td>39000.0</td><td>96</td><td>102</td><td>--</td><td>1.1e-09</td><td>220.0</td></tr>\n",
       "<tr><td>411</td><td>HD 305599</td><td>G288.1505-00.5059</td><td>B0Ib</td><td>25000</td><td>30.0</td><td>2.3</td><td>4.2</td><td>0.05</td><td>230000.0</td><td>128</td><td>106</td><td>--</td><td>4e-10</td><td>5100.0</td></tr>\n",
       "<tr><td>413</td><td>HD 93683</td><td>G288.3138-01.3085</td><td>O9V</td><td>31500</td><td>7.7</td><td>2.3</td><td>15.0</td><td>0.17</td><td>2900.0</td><td>62</td><td>123</td><td>--</td><td>1e-09</td><td>360.0</td></tr>\n",
       "</table>"
      ],
      "text/plain": [
       "<Table masked=True length=20>\n",
       "  ID       Name1             Name          SpType   ... T70/160   FIR    L*/LIR\n",
       "                                                    ...    K    mW / m2        \n",
       "int64      str15            str17          str11    ...  int64  float64 float64\n",
       "----- --------------- ----------------- ----------- ... ------- ------- -------\n",
       "   13        zeta Oph G006.2812+23.5877      O9.2IV ...     240 6.4e-08  1110.0\n",
       "   67 NGC 6611 ESL 45 G017.0826+00.9744         O9V ...      -- 5.8e-08     8.4\n",
       "  329     KGK 2010 10 G077.0505-00.6094         O7V ...      -- 5.1e-10  4400.0\n",
       "  331     LS II+39 53 G078.2869+00.7780         O7V ...      -- 5.3e-09   430.0\n",
       "  338      CPR2002A10 G078.8223+00.0959         O9V ...      -- 6.9e-09   160.0\n",
       "  339      CPR2002A37 G080.2400+00.1354         O5V ...      --   6e-09  1100.0\n",
       "  341       KGK2010 1 G080.8621+00.9749         B2V ...      -- 1.9e-09    43.0\n",
       "  342       KGK2010 2 G080.9020+00.9828         B2V ...      69   6e-10   140.0\n",
       "  344      BD+43 3654 G082.4100+02.3254        O4If ...     174   5e-08   350.0\n",
       "  368          KM Cas G134.3552+00.8182       O9.5V ...      -- 1.4e-10  2400.0\n",
       "  369       BD+60 586 G137.4203+01.2792 O7.5V/O8III ...     148 1.4e-09   640.0\n",
       "  380        HD 53367 G223.7092-01.9008       B0IVe ...      -- 3.3e-09  5400.0\n",
       "  381        HD 54662 G224.1685-00.7784         O7V ...      -- 4.4e-09  2300.0\n",
       "  382          FN CMa G224.7096-01.7938        B2Ia ...      -- 3.2e-09   980.0\n",
       "  406        HD 92607 G287.1148-01.0236     O8V+O9V ...      -- 1.9e-09   300.0\n",
       "  407        HD 93249 G287.4071-00.3593       O9III ...      -- 6.3e-09   160.0\n",
       "  409        HD 93027 G287.6131-01.1302      O9.5IV ...      -- 7.6e-10   330.0\n",
       "  410       HD 305536 G287.6736-01.0093     O9.5V+? ...      -- 1.1e-09   220.0\n",
       "  411       HD 305599 G288.1505-00.5059        B0Ib ...      --   4e-10  5100.0\n",
       "  413        HD 93683 G288.3138-01.3085         O9V ...      --   1e-09   360.0"
      ]
     },
     "execution_count": 14,
     "metadata": {},
     "output_type": "execute_result"
    }
   ],
   "source": [
    "tab05"
   ]
  },
  {
   "cell_type": "code",
   "execution_count": 17,
   "metadata": {},
   "outputs": [],
   "source": [
    "import astropy.units as u"
   ]
  },
  {
   "cell_type": "code",
   "execution_count": 18,
   "metadata": {},
   "outputs": [],
   "source": [
    "import astropy.constants as const"
   ]
  },
  {
   "cell_type": "code",
   "execution_count": 24,
   "metadata": {},
   "outputs": [],
   "source": [
    "tab05['LIR'] = tab05['FIR'].to(u.erg/u.cm**2/u.s)*4*np.pi*(tab05['Dist']*1e3*u.parsec).to(u.cm)**2 / const.L_sun.to(u.erg/u.s)"
   ]
  },
  {
   "cell_type": "code",
   "execution_count": 26,
   "metadata": {},
   "outputs": [
    {
     "data": {
      "text/html": [
       "&lt;Table masked=True length=20&gt;\n",
       "<table id=\"table4682688776\" class=\"table-striped table-bordered table-condensed\">\n",
       "<thead><tr><th>ID</th><th>Name1</th><th>Name</th><th>SpType</th><th>Teff</th><th>R*</th><th>Dist</th><th>Dist1</th><th>Dist2</th><th>U</th><th>TSS</th><th>T22/T70</th><th>T70/160</th><th>FIR</th><th>L*/LIR</th><th>LIR</th></tr></thead>\n",
       "<thead><tr><th></th><th></th><th></th><th></th><th>K</th><th>solRad</th><th>kpc</th><th>arcsec</th><th>pc</th><th></th><th>K</th><th>K</th><th>K</th><th>mW / m2</th><th></th><th></th></tr></thead>\n",
       "<thead><tr><th>int64</th><th>str15</th><th>str17</th><th>str11</th><th>int64</th><th>float64</th><th>float64</th><th>float64</th><th>float64</th><th>float64</th><th>int64</th><th>int64</th><th>int64</th><th>float64</th><th>float64</th><th>float64</th></tr></thead>\n",
       "<tr><td>13</td><td>zeta Oph</td><td>G006.2812+23.5877</td><td>O9.2IV</td><td>31000</td><td>7.2</td><td>0.14</td><td>29.0</td><td>0.02</td><td>170000.0</td><td>123</td><td>158</td><td>240</td><td>6.4e-08</td><td>1110.0</td><td>39.2080344138</td></tr>\n",
       "<tr><td>67</td><td>NGC 6611 ESL 45</td><td>G017.0826+00.9744</td><td>O9V</td><td>31500</td><td>7.7</td><td>1.99</td><td>7.5</td><td>0.07</td><td>16000.0</td><td>82</td><td>842</td><td>--</td><td>5.8e-08</td><td>8.4</td><td>7179.15238422</td></tr>\n",
       "<tr><td>329</td><td>KGK 2010 10</td><td>G077.0505-00.6094</td><td>O7V</td><td>35500</td><td>9.3</td><td>1.32</td><td>10.0</td><td>0.06</td><td>46000.0</td><td>98</td><td>131</td><td>--</td><td>5.1e-10</td><td>4400.0</td><td>27.7751916238</td></tr>\n",
       "<tr><td>331</td><td>LS II+39 53</td><td>G078.2869+00.7780</td><td>O7V</td><td>35500</td><td>9.3</td><td>1.32</td><td>25.0</td><td>0.18</td><td>7300.0</td><td>72</td><td>195</td><td>--</td><td>5.3e-09</td><td>430.0</td><td>288.644148248</td></tr>\n",
       "<tr><td>338</td><td>CPR2002A10</td><td>G078.8223+00.0959</td><td>O9V</td><td>31500</td><td>7.7</td><td>1.32</td><td>23.0</td><td>0.15</td><td>3800.0</td><td>65</td><td>110</td><td>--</td><td>6.9e-09</td><td>160.0</td><td>375.782004322</td></tr>\n",
       "<tr><td>339</td><td>CPR2002A37</td><td>G080.2400+00.1354</td><td>O5V</td><td>41500</td><td>11.1</td><td>1.32</td><td>70.0</td><td>0.45</td><td>2600.0</td><td>61</td><td>120</td><td>--</td><td>6e-09</td><td>1100.0</td><td>326.76696028</td></tr>\n",
       "<tr><td>341</td><td>KGK2010 1</td><td>G080.8621+00.9749</td><td>B2V</td><td>20900</td><td>5.4</td><td>1.32</td><td>20.0</td><td>0.13</td><td>470.0</td><td>46</td><td>126</td><td>--</td><td>1.9e-09</td><td>43.0</td><td>103.476204089</td></tr>\n",
       "<tr><td>342</td><td>KGK2010 2</td><td>G080.9020+00.9828</td><td>B2V</td><td>20900</td><td>5.4</td><td>1.32</td><td>10.0</td><td>0.06</td><td>1900.0</td><td>58</td><td>70</td><td>69</td><td>6e-10</td><td>140.0</td><td>32.676696028</td></tr>\n",
       "<tr><td>344</td><td>BD+43 3654</td><td>G082.4100+02.3254</td><td>O4If</td><td>40700</td><td>19.0</td><td>1.32</td><td>193.0</td><td>1.24</td><td>910.0</td><td>51</td><td>98</td><td>174</td><td>5e-08</td><td>350.0</td><td>2723.05800234</td></tr>\n",
       "<tr><td>368</td><td>KM Cas</td><td>G134.3552+00.8182</td><td>O9.5V</td><td>30500</td><td>7.4</td><td>2.0</td><td>14.0</td><td>0.13</td><td>3700.0</td><td>64</td><td>96</td><td>--</td><td>1.4e-10</td><td>2400.0</td><td>17.5035867919</td></tr>\n",
       "<tr><td>369</td><td>BD+60 586</td><td>G137.4203+01.2792</td><td>O7.5V/O8III</td><td>34400</td><td>8.9</td><td>2.0</td><td>73.0</td><td>0.71</td><td>320.0</td><td>43</td><td>81</td><td>148</td><td>1.4e-09</td><td>640.0</td><td>175.035867919</td></tr>\n",
       "<tr><td>380</td><td>HD 53367</td><td>G223.7092-01.9008</td><td>B0IVe</td><td>30000</td><td>7.4</td><td>0.26</td><td>15.0</td><td>0.02</td><td>180000.0</td><td>124</td><td>183</td><td>--</td><td>3.3e-09</td><td>5400.0</td><td>6.97267882416</td></tr>\n",
       "<tr><td>381</td><td>HD 54662</td><td>G224.1685-00.7784</td><td>O7V</td><td>35500</td><td>9.4</td><td>0.63</td><td>71.0</td><td>0.22</td><td>4200.0</td><td>66</td><td>82</td><td>--</td><td>4.4e-09</td><td>2300.0</td><td>54.5849354105</td></tr>\n",
       "<tr><td>382</td><td>FN CMa</td><td>G224.7096-01.7938</td><td>B2Ia</td><td>17600</td><td>30.0</td><td>0.93</td><td>101.0</td><td>0.45</td><td>580.0</td><td>47</td><td>100</td><td>--</td><td>3.2e-09</td><td>980.0</td><td>86.5077269503</td></tr>\n",
       "<tr><td>406</td><td>HD 92607</td><td>G287.1148-01.0236</td><td>O8V+O9V</td><td>33400</td><td>8.5</td><td>2.3</td><td>16.0</td><td>0.18</td><td>4100.0</td><td>66</td><td>230</td><td>--</td><td>1.9e-09</td><td>300.0</td><td>314.158126509</td></tr>\n",
       "<tr><td>407</td><td>HD 93249</td><td>G287.4071-00.3593</td><td>O9III</td><td>33400</td><td>13.6</td><td>2.3</td><td>7.8</td><td>0.09</td><td>31000.0</td><td>92</td><td>141</td><td>--</td><td>6.3e-09</td><td>160.0</td><td>1041.68220895</td></tr>\n",
       "<tr><td>409</td><td>HD 93027</td><td>G287.6131-01.1302</td><td>O9.5IV</td><td>30500</td><td>7.4</td><td>2.3</td><td>7.4</td><td>0.08</td><td>9900.0</td><td>76</td><td>229</td><td>--</td><td>7.6e-10</td><td>330.0</td><td>125.663250604</td></tr>\n",
       "<tr><td>410</td><td>HD 305536</td><td>G287.6736-01.0093</td><td>O9.5V+?</td><td>30500</td><td>7.4</td><td>2.3</td><td>3.7</td><td>0.04</td><td>39000.0</td><td>96</td><td>102</td><td>--</td><td>1.1e-09</td><td>220.0</td><td>181.881020611</td></tr>\n",
       "<tr><td>411</td><td>HD 305599</td><td>G288.1505-00.5059</td><td>B0Ib</td><td>25000</td><td>30.0</td><td>2.3</td><td>4.2</td><td>0.05</td><td>230000.0</td><td>128</td><td>106</td><td>--</td><td>4e-10</td><td>5100.0</td><td>66.1385529493</td></tr>\n",
       "<tr><td>413</td><td>HD 93683</td><td>G288.3138-01.3085</td><td>O9V</td><td>31500</td><td>7.7</td><td>2.3</td><td>15.0</td><td>0.17</td><td>2900.0</td><td>62</td><td>123</td><td>--</td><td>1e-09</td><td>360.0</td><td>165.346382373</td></tr>\n",
       "</table>"
      ],
      "text/plain": [
       "<Table masked=True length=20>\n",
       "  ID       Name1             Name       ...   FIR    L*/LIR      LIR     \n",
       "                                        ... mW / m2                      \n",
       "int64      str15            str17       ... float64 float64    float64   \n",
       "----- --------------- ----------------- ... ------- ------- -------------\n",
       "   13        zeta Oph G006.2812+23.5877 ... 6.4e-08  1110.0 39.2080344138\n",
       "   67 NGC 6611 ESL 45 G017.0826+00.9744 ... 5.8e-08     8.4 7179.15238422\n",
       "  329     KGK 2010 10 G077.0505-00.6094 ... 5.1e-10  4400.0 27.7751916238\n",
       "  331     LS II+39 53 G078.2869+00.7780 ... 5.3e-09   430.0 288.644148248\n",
       "  338      CPR2002A10 G078.8223+00.0959 ... 6.9e-09   160.0 375.782004322\n",
       "  339      CPR2002A37 G080.2400+00.1354 ...   6e-09  1100.0  326.76696028\n",
       "  341       KGK2010 1 G080.8621+00.9749 ... 1.9e-09    43.0 103.476204089\n",
       "  342       KGK2010 2 G080.9020+00.9828 ...   6e-10   140.0  32.676696028\n",
       "  344      BD+43 3654 G082.4100+02.3254 ...   5e-08   350.0 2723.05800234\n",
       "  368          KM Cas G134.3552+00.8182 ... 1.4e-10  2400.0 17.5035867919\n",
       "  369       BD+60 586 G137.4203+01.2792 ... 1.4e-09   640.0 175.035867919\n",
       "  380        HD 53367 G223.7092-01.9008 ... 3.3e-09  5400.0 6.97267882416\n",
       "  381        HD 54662 G224.1685-00.7784 ... 4.4e-09  2300.0 54.5849354105\n",
       "  382          FN CMa G224.7096-01.7938 ... 3.2e-09   980.0 86.5077269503\n",
       "  406        HD 92607 G287.1148-01.0236 ... 1.9e-09   300.0 314.158126509\n",
       "  407        HD 93249 G287.4071-00.3593 ... 6.3e-09   160.0 1041.68220895\n",
       "  409        HD 93027 G287.6131-01.1302 ... 7.6e-10   330.0 125.663250604\n",
       "  410       HD 305536 G287.6736-01.0093 ... 1.1e-09   220.0 181.881020611\n",
       "  411       HD 305599 G288.1505-00.5059 ...   4e-10  5100.0 66.1385529493\n",
       "  413        HD 93683 G288.3138-01.3085 ...   1e-09   360.0 165.346382373"
      ]
     },
     "execution_count": 26,
     "metadata": {},
     "output_type": "execute_result"
    }
   ],
   "source": [
    "tab05"
   ]
  },
  {
   "cell_type": "code",
   "execution_count": null,
   "metadata": {},
   "outputs": [],
   "source": []
  }
 ],
 "metadata": {
  "kernelspec": {
   "display_name": "Python 3",
   "language": "python",
   "name": "python3"
  },
  "language_info": {
   "codemirror_mode": {
    "name": "ipython",
    "version": 3
   },
   "file_extension": ".py",
   "mimetype": "text/x-python",
   "name": "python",
   "nbconvert_exporter": "python",
   "pygments_lexer": "ipython3",
   "version": "3.6.3"
  },
  "main_language": "python"
 },
 "nbformat": 4,
 "nbformat_minor": 2
}
