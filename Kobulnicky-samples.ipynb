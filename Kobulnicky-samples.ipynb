{
 "cells": [
  {
   "cell_type": "code",
   "execution_count": 1,
   "metadata": {},
   "outputs": [],
   "source": [
    "import numpy as np\n",
    "from astropy.table import Table\n",
    "import pandas as pd\n",
    "from matplotlib import pyplot as plt\n",
    "%matplotlib inline\n",
    "import seaborn as sns"
   ]
  },
  {
   "cell_type": "markdown",
   "metadata": {},
   "source": [
    "### Read in bow shock data from Kobulnicky:2017a"
   ]
  },
  {
   "cell_type": "code",
   "execution_count": 2,
   "metadata": {},
   "outputs": [],
   "source": [
    "tab01 = Table.read(\"data/Kobulnicky2017/J_AJ_154_201_table1.dat.fits\")"
   ]
  },
  {
   "cell_type": "markdown",
   "metadata": {},
   "source": [
    "Remove coordinate columns that we do not want. Also the color temperatures. *And we have to remove the Name field*. This is because of inconsitencies between the names in the different tables, which cause problems when we merge."
   ]
  },
  {
   "cell_type": "code",
   "execution_count": 3,
   "metadata": {},
   "outputs": [],
   "source": [
    "tab01.remove_columns(\n",
    "   [\n",
    "       'RAh', 'RAm', 'RAs', 'DE-', 'DEd', 'DEm', 'DEs',\n",
    "       'T70/160', 'Name',\n",
    "   ]\n",
    ")"
   ]
  },
  {
   "cell_type": "code",
   "execution_count": 4,
   "metadata": {},
   "outputs": [
    {
     "data": {
      "text/html": [
       "&lt;Table length=10&gt;\n",
       "<table id=\"table4842695928\" class=\"table-striped table-bordered table-condensed\">\n",
       "<thead><tr><th>ID</th><th>Rad</th><th>Height</th><th>l_F3.6</th><th>F3.6</th><th>l_F4.5</th><th>F4.5</th><th>l_F5.8</th><th>F5.8</th><th>l_F8.0</th><th>F8.0</th><th>F24</th><th>l_F70</th><th>F70</th><th>l_F160</th><th>F160</th><th>I70</th><th>T24/70</th></tr></thead>\n",
       "<thead><tr><th></th><th>arcsec</th><th>arcsec</th><th></th><th>Jy</th><th></th><th>Jy</th><th></th><th>Jy</th><th></th><th>Jy</th><th>Jy</th><th></th><th>Jy</th><th></th><th>Jy</th><th>Jy / arcmin2</th><th>K</th></tr></thead>\n",
       "<thead><tr><th>int32</th><th>int32</th><th>int32</th><th>str1</th><th>float64</th><th>str1</th><th>float64</th><th>str1</th><th>float64</th><th>str1</th><th>float64</th><th>float64</th><th>str1</th><th>float64</th><th>str1</th><th>float64</th><th>float64</th><th>int32</th></tr></thead>\n",
       "<tr><td>311</td><td>6</td><td>5</td><td>&lt;</td><td>0.005</td><td>&lt;</td><td>0.05</td><td>&lt;</td><td>0.017</td><td>&lt;</td><td>0.041</td><td>1.43</td><td>&lt;</td><td>0.55</td><td>&lt;</td><td>0.38</td><td>-99.9</td><td>-99</td></tr>\n",
       "<tr><td>312</td><td>5</td><td>5</td><td>&lt;</td><td>0.011</td><td>&lt;</td><td>0.004</td><td>&lt;</td><td>0.015</td><td>&lt;</td><td>0.031</td><td>1.11</td><td>&lt;</td><td>0.24</td><td>&lt;</td><td>0.17</td><td>-99.9</td><td>-99</td></tr>\n",
       "<tr><td>314</td><td>5</td><td>8</td><td>&lt;</td><td>0.023</td><td>&lt;</td><td>0.015</td><td>&lt;</td><td>0.021</td><td>&lt;</td><td>0.006</td><td>1.559</td><td></td><td>0.45</td><td>&lt;</td><td>0.05</td><td>3.5</td><td>271</td></tr>\n",
       "<tr><td>331</td><td>33</td><td>30</td><td>&lt;</td><td>0.036</td><td>&lt;</td><td>0.024</td><td>&lt;</td><td>0.032</td><td>&lt;</td><td>0.017</td><td>28.45</td><td></td><td>12.72</td><td>&lt;</td><td>4.8</td><td>17.6</td><td>195</td></tr>\n",
       "<tr><td>332</td><td>21</td><td>34</td><td>&lt;</td><td>0.125</td><td>&lt;</td><td>0.097</td><td>&lt;</td><td>0.378</td><td>&lt;</td><td>0.819</td><td>6.096</td><td>&lt;</td><td>18.5</td><td>&lt;</td><td>11.1</td><td>-99.9</td><td>-99</td></tr>\n",
       "<tr><td>333</td><td>11</td><td>12</td><td>&lt;</td><td>0.014</td><td>&lt;</td><td>0.013</td><td>&lt;</td><td>0.063</td><td>&lt;</td><td>0.241</td><td>6.22</td><td></td><td>8.99</td><td>&lt;</td><td>2.5</td><td>17.6</td><td>116</td></tr>\n",
       "<tr><td>334</td><td>12</td><td>13</td><td>&lt;</td><td>0.004</td><td>&lt;</td><td>0.004</td><td>&lt;</td><td>0.005</td><td>&lt;</td><td>0.005</td><td>0.463</td><td></td><td>1.45</td><td>&lt;</td><td>0.17</td><td>7.0</td><td>93</td></tr>\n",
       "<tr><td>335</td><td>20</td><td>16</td><td>&lt;</td><td>0.05</td><td>&lt;</td><td>0.034</td><td>&lt;</td><td>0.142</td><td>&lt;</td><td>0.265</td><td>2.582</td><td>&lt;</td><td>4.43</td><td>&lt;</td><td>3.01</td><td>-99.9</td><td>-99</td></tr>\n",
       "<tr><td>336</td><td>20</td><td>12</td><td>&lt;</td><td>0.011</td><td>&lt;</td><td>0.011</td><td>&lt;</td><td>0.032</td><td>&lt;</td><td>0.09</td><td>4.672</td><td></td><td>-99.999</td><td></td><td>-99.999</td><td>-99.9</td><td>-99</td></tr>\n",
       "<tr><td>337</td><td>11</td><td>9</td><td>&lt;</td><td>0.007</td><td>&lt;</td><td>0.008</td><td>&lt;</td><td>0.008</td><td>&lt;</td><td>0.015</td><td>1.41</td><td></td><td>4.5</td><td>&lt;</td><td>1.67</td><td>35.2</td><td>93</td></tr>\n",
       "</table>"
      ],
      "text/plain": [
       "<Table length=10>\n",
       "  ID   Rad   Height l_F3.6   F3.6  ... l_F160   F160      I70      T24/70\n",
       "      arcsec arcsec           Jy   ...           Jy   Jy / arcmin2   K   \n",
       "int32 int32  int32   str1  float64 ...  str1  float64   float64    int32 \n",
       "----- ------ ------ ------ ------- ... ------ ------- ------------ ------\n",
       "  311      6      5      <   0.005 ...      <    0.38        -99.9    -99\n",
       "  312      5      5      <   0.011 ...      <    0.17        -99.9    -99\n",
       "  314      5      8      <   0.023 ...      <    0.05          3.5    271\n",
       "  331     33     30      <   0.036 ...      <     4.8         17.6    195\n",
       "  332     21     34      <   0.125 ...      <    11.1        -99.9    -99\n",
       "  333     11     12      <   0.014 ...      <     2.5         17.6    116\n",
       "  334     12     13      <   0.004 ...      <    0.17          7.0     93\n",
       "  335     20     16      <    0.05 ...      <    3.01        -99.9    -99\n",
       "  336     20     12      <   0.011 ...        -99.999        -99.9    -99\n",
       "  337     11      9      <   0.007 ...      <    1.67         35.2     93"
      ]
     },
     "execution_count": 4,
     "metadata": {},
     "output_type": "execute_result"
    }
   ],
   "source": [
    "tab01[300:310]"
   ]
  },
  {
   "cell_type": "markdown",
   "metadata": {},
   "source": [
    "Indicate lower limit fluxes by negative values, as in the published table: "
   ]
  },
  {
   "cell_type": "code",
   "execution_count": 5,
   "metadata": {},
   "outputs": [],
   "source": [
    "for band in 'F3.6', 'F4.5', 'F5.8', 'F8.0', 'F70', 'F160':\n",
    "    lband = 'l_' + band\n",
    "    m = tab01[lband] == '<'\n",
    "    tab01[band][m] = -tab01[band][m]\n",
    "    tab01.remove_column(lband)"
   ]
  },
  {
   "cell_type": "code",
   "execution_count": 6,
   "metadata": {},
   "outputs": [
    {
     "data": {
      "text/html": [
       "&lt;Table length=623&gt;\n",
       "<table id=\"table4842673768\" class=\"table-striped table-bordered table-condensed\">\n",
       "<thead><tr><th>ID</th><th>Rad</th><th>Height</th><th>F3.6</th><th>F4.5</th><th>F5.8</th><th>F8.0</th><th>F24</th><th>F70</th><th>F160</th><th>I70</th><th>T24/70</th></tr></thead>\n",
       "<thead><tr><th></th><th>arcsec</th><th>arcsec</th><th>Jy</th><th>Jy</th><th>Jy</th><th>Jy</th><th>Jy</th><th>Jy</th><th>Jy</th><th>Jy / arcmin2</th><th>K</th></tr></thead>\n",
       "<thead><tr><th>int32</th><th>int32</th><th>int32</th><th>float64</th><th>float64</th><th>float64</th><th>float64</th><th>float64</th><th>float64</th><th>float64</th><th>float64</th><th>int32</th></tr></thead>\n",
       "<tr><td>1</td><td>38</td><td>44</td><td>-0.074</td><td>-0.15</td><td>-0.086</td><td>0.255</td><td>8.73</td><td>28.3</td><td>-22.0</td><td>126.5</td><td>92</td></tr>\n",
       "<tr><td>2</td><td>16</td><td>25</td><td>-0.258</td><td>-0.149</td><td>-0.114</td><td>0.041</td><td>0.453</td><td>0.45</td><td>-2.0</td><td>24.6</td><td>132</td></tr>\n",
       "<tr><td>3</td><td>13</td><td>21</td><td>-0.139</td><td>-0.12</td><td>-0.23</td><td>0.71</td><td>13.305</td><td>39.0</td><td>-20.0</td><td>372.6</td><td>95</td></tr>\n",
       "<tr><td>4</td><td>17</td><td>19</td><td>-0.065</td><td>-0.375</td><td>-0.062</td><td>0.108</td><td>1.023</td><td>3.91</td><td>-7.0</td><td>355.0</td><td>89</td></tr>\n",
       "<tr><td>5</td><td>12</td><td>23</td><td>-0.055</td><td>-0.038</td><td>-0.02</td><td>-0.01</td><td>0.273</td><td>-0.4</td><td>-3.8</td><td>-99.9</td><td>-99</td></tr>\n",
       "<tr><td>6</td><td>11</td><td>17</td><td>-0.086</td><td>-0.061</td><td>-0.059</td><td>-0.025</td><td>0.37</td><td>1.3</td><td>-6.4</td><td>56.2</td><td>90</td></tr>\n",
       "<tr><td>7</td><td>13</td><td>13</td><td>0.103</td><td>0.106</td><td>0.496</td><td>1.311</td><td>0.83</td><td>21.7</td><td>10.6</td><td>179.3</td><td>61</td></tr>\n",
       "<tr><td>8</td><td>10</td><td>12</td><td>-0.083</td><td>-0.25</td><td>-0.056</td><td>-0.093</td><td>0.609</td><td>4.7</td><td>2.4</td><td>59.8</td><td>76</td></tr>\n",
       "<tr><td>9</td><td>9</td><td>10</td><td>-0.017</td><td>-0.015</td><td>-0.017</td><td>-0.015</td><td>0.391</td><td>3.3</td><td>-4.8</td><td>45.7</td><td>75</td></tr>\n",
       "<tr><td>...</td><td>...</td><td>...</td><td>...</td><td>...</td><td>...</td><td>...</td><td>...</td><td>...</td><td>...</td><td>...</td><td>...</td></tr>\n",
       "<tr><td>700</td><td>28</td><td>38</td><td>-0.813</td><td>-0.538</td><td>-0.492</td><td>-0.305</td><td>0.461</td><td>0.3</td><td>-7.33</td><td>-99.9</td><td>159</td></tr>\n",
       "<tr><td>701</td><td>11</td><td>16</td><td>-0.097</td><td>-0.032</td><td>-0.056</td><td>-0.042</td><td>1.06</td><td>-0.08</td><td>-1.06</td><td>-99.9</td><td>-99</td></tr>\n",
       "<tr><td>702</td><td>20</td><td>27</td><td>-0.069</td><td>-0.028</td><td>-0.015</td><td>-0.042</td><td>0.848</td><td>0.89</td><td>-1.87</td><td>10.6</td><td>130</td></tr>\n",
       "<tr><td>703</td><td>16</td><td>18</td><td>0.022</td><td>0.018</td><td>0.041</td><td>0.095</td><td>0.256</td><td>-3.3</td><td>-6.23</td><td>-99.9</td><td>-99</td></tr>\n",
       "<tr><td>704</td><td>19</td><td>18</td><td>-0.196</td><td>-0.116</td><td>-0.083</td><td>-0.048</td><td>0.084</td><td>-2.06</td><td>-4.01</td><td>-99.9</td><td>-99</td></tr>\n",
       "<tr><td>705</td><td>51</td><td>3</td><td>-1.337</td><td>-0.726</td><td>-0.264</td><td>1.392</td><td>4.792</td><td>23.83</td><td>-34.27</td><td>14.1</td><td>83</td></tr>\n",
       "<tr><td>706</td><td>15</td><td>21</td><td>-0.024</td><td>-0.025</td><td>-0.02</td><td>-0.006</td><td>1.231</td><td>-1.64</td><td>-7.46</td><td>-99.9</td><td>-99</td></tr>\n",
       "<tr><td>707</td><td>96</td><td>30</td><td>-1.379</td><td>-1.512</td><td>-1.949</td><td>-1.509</td><td>7.376</td><td>-33.95</td><td>-7.04</td><td>-99.9</td><td>-99</td></tr>\n",
       "<tr><td>708</td><td>22</td><td>20</td><td>-0.218</td><td>-0.113</td><td>-0.207</td><td>-1.01</td><td>9.897</td><td>28.36</td><td>-29.42</td><td>73.8</td><td>95</td></tr>\n",
       "<tr><td>709</td><td>17</td><td>20</td><td>-0.49</td><td>-0.327</td><td>-0.42</td><td>-0.822</td><td>8.845</td><td>21.85</td><td>-0.56</td><td>21.1</td><td>99</td></tr>\n",
       "</table>"
      ],
      "text/plain": [
       "<Table length=623>\n",
       "  ID   Rad   Height   F3.6    F4.5  ...   F70     F160      I70      T24/70\n",
       "      arcsec arcsec    Jy      Jy   ...    Jy      Jy   Jy / arcmin2   K   \n",
       "int32 int32  int32  float64 float64 ... float64 float64   float64    int32 \n",
       "----- ------ ------ ------- ------- ... ------- ------- ------------ ------\n",
       "    1     38     44  -0.074   -0.15 ...    28.3   -22.0        126.5     92\n",
       "    2     16     25  -0.258  -0.149 ...    0.45    -2.0         24.6    132\n",
       "    3     13     21  -0.139   -0.12 ...    39.0   -20.0        372.6     95\n",
       "    4     17     19  -0.065  -0.375 ...    3.91    -7.0        355.0     89\n",
       "    5     12     23  -0.055  -0.038 ...    -0.4    -3.8        -99.9    -99\n",
       "    6     11     17  -0.086  -0.061 ...     1.3    -6.4         56.2     90\n",
       "    7     13     13   0.103   0.106 ...    21.7    10.6        179.3     61\n",
       "    8     10     12  -0.083   -0.25 ...     4.7     2.4         59.8     76\n",
       "    9      9     10  -0.017  -0.015 ...     3.3    -4.8         45.7     75\n",
       "  ...    ...    ...     ...     ... ...     ...     ...          ...    ...\n",
       "  700     28     38  -0.813  -0.538 ...     0.3   -7.33        -99.9    159\n",
       "  701     11     16  -0.097  -0.032 ...   -0.08   -1.06        -99.9    -99\n",
       "  702     20     27  -0.069  -0.028 ...    0.89   -1.87         10.6    130\n",
       "  703     16     18   0.022   0.018 ...    -3.3   -6.23        -99.9    -99\n",
       "  704     19     18  -0.196  -0.116 ...   -2.06   -4.01        -99.9    -99\n",
       "  705     51      3  -1.337  -0.726 ...   23.83  -34.27         14.1     83\n",
       "  706     15     21  -0.024  -0.025 ...   -1.64   -7.46        -99.9    -99\n",
       "  707     96     30  -1.379  -1.512 ...  -33.95   -7.04        -99.9    -99\n",
       "  708     22     20  -0.218  -0.113 ...   28.36  -29.42         73.8     95\n",
       "  709     17     20   -0.49  -0.327 ...   21.85   -0.56         21.1     99"
      ]
     },
     "execution_count": 6,
     "metadata": {},
     "output_type": "execute_result"
    }
   ],
   "source": [
    "tab01"
   ]
  },
  {
   "cell_type": "code",
   "execution_count": 7,
   "metadata": {},
   "outputs": [],
   "source": [
    "tab02 = Table.read(\"data/Kobulnicky2017/J_AJ_154_201_table2.dat.fits\")"
   ]
  },
  {
   "cell_type": "code",
   "execution_count": 8,
   "metadata": {},
   "outputs": [],
   "source": [
    "tab02.remove_columns(\n",
    "   [\n",
    "       'RAh', 'RAm', 'RAs', 'DE-', 'DEd', 'DEm', 'DEs',\n",
    "       'T70/160', 'Name',\n",
    "   ]\n",
    ")\n",
    "for band in 'F3.4', 'F4.6', 'F12', 'F70', 'F160':\n",
    "    lband = 'l_' + band\n",
    "    m = tab02[lband] == '<'\n",
    "    tab02[band][m] = -tab02[band][m]\n",
    "    tab02.remove_column(lband)"
   ]
  },
  {
   "cell_type": "code",
   "execution_count": 9,
   "metadata": {},
   "outputs": [
    {
     "data": {
      "text/html": [
       "&lt;Table length=10&gt;\n",
       "<table id=\"table4843868288\" class=\"table-striped table-bordered table-condensed\">\n",
       "<thead><tr><th>ID</th><th>Rad</th><th>Height</th><th>F3.4</th><th>F4.6</th><th>F12</th><th>F22</th><th>F70</th><th>F160</th><th>I70</th><th>T22/70</th></tr></thead>\n",
       "<thead><tr><th></th><th>arcsec</th><th>arcsec</th><th>Jy</th><th>Jy</th><th>Jy</th><th>Jy</th><th>Jy</th><th>Jy</th><th>Jy / arcmin2</th><th>K</th></tr></thead>\n",
       "<thead><tr><th>int32</th><th>int32</th><th>int32</th><th>float64</th><th>float64</th><th>float64</th><th>float64</th><th>float64</th><th>float64</th><th>float64</th><th>int32</th></tr></thead>\n",
       "<tr><td>324</td><td>29</td><td>22</td><td>-0.015</td><td>-0.008</td><td>-0.033</td><td>0.213</td><td>-0.41</td><td>-0.54</td><td>-99.9</td><td>-99</td></tr>\n",
       "<tr><td>325</td><td>15</td><td>14</td><td>-0.04</td><td>-0.045</td><td>0.042</td><td>0.195</td><td>-99.999</td><td>-99.999</td><td>-99.9</td><td>-99</td></tr>\n",
       "<tr><td>326</td><td>22</td><td>16</td><td>-0.004</td><td>-0.005</td><td>-0.005</td><td>0.123</td><td>-99.999</td><td>-99.999</td><td>-99.9</td><td>-99</td></tr>\n",
       "<tr><td>327</td><td>15</td><td>7</td><td>-0.004</td><td>-0.004</td><td>0.254</td><td>1.266</td><td>4.38</td><td>-2.12</td><td>38.7</td><td>98</td></tr>\n",
       "<tr><td>328</td><td>16</td><td>12</td><td>-0.002</td><td>-0.003</td><td>-0.004</td><td>0.039</td><td>-99.999</td><td>-99.999</td><td>-99.9</td><td>-99</td></tr>\n",
       "<tr><td>330</td><td>30</td><td>19</td><td>-0.159</td><td>-0.108</td><td>-0.153</td><td>0.636</td><td>-0.87</td><td>-0.57</td><td>-99.9</td><td>-99</td></tr>\n",
       "<tr><td>343</td><td>300</td><td>190</td><td>-0.264</td><td>-0.187</td><td>10.798</td><td>148.857</td><td>-99.999</td><td>-99.999</td><td>-99.9</td><td>-99</td></tr>\n",
       "<tr><td>344</td><td>171</td><td>108</td><td>-0.066</td><td>-0.115</td><td>18.036</td><td>141.124</td><td>482.2</td><td>134.8</td><td>52.7</td><td>98</td></tr>\n",
       "<tr><td>345</td><td>13</td><td>19</td><td>-0.027</td><td>-0.02</td><td>0.641</td><td>2.977</td><td>-99.999</td><td>-99.999</td><td>-99.9</td><td>-99</td></tr>\n",
       "<tr><td>346</td><td>18</td><td>10</td><td>-0.022</td><td>-0.025</td><td>0.103</td><td>0.557</td><td>-99.999</td><td>-99.999</td><td>-99.9</td><td>-99</td></tr>\n",
       "</table>"
      ],
      "text/plain": [
       "<Table length=10>\n",
       "  ID   Rad   Height   F3.4    F4.6  ...   F70     F160      I70      T22/70\n",
       "      arcsec arcsec    Jy      Jy   ...    Jy      Jy   Jy / arcmin2   K   \n",
       "int32 int32  int32  float64 float64 ... float64 float64   float64    int32 \n",
       "----- ------ ------ ------- ------- ... ------- ------- ------------ ------\n",
       "  324     29     22  -0.015  -0.008 ...   -0.41   -0.54        -99.9    -99\n",
       "  325     15     14   -0.04  -0.045 ... -99.999 -99.999        -99.9    -99\n",
       "  326     22     16  -0.004  -0.005 ... -99.999 -99.999        -99.9    -99\n",
       "  327     15      7  -0.004  -0.004 ...    4.38   -2.12         38.7     98\n",
       "  328     16     12  -0.002  -0.003 ... -99.999 -99.999        -99.9    -99\n",
       "  330     30     19  -0.159  -0.108 ...   -0.87   -0.57        -99.9    -99\n",
       "  343    300    190  -0.264  -0.187 ... -99.999 -99.999        -99.9    -99\n",
       "  344    171    108  -0.066  -0.115 ...   482.2   134.8         52.7     98\n",
       "  345     13     19  -0.027   -0.02 ... -99.999 -99.999        -99.9    -99\n",
       "  346     18     10  -0.022  -0.025 ... -99.999 -99.999        -99.9    -99"
      ]
     },
     "execution_count": 9,
     "metadata": {},
     "output_type": "execute_result"
    }
   ],
   "source": [
    "tab02[20:30]"
   ]
  },
  {
   "cell_type": "markdown",
   "metadata": {},
   "source": [
    "There is something wrong with Table 5.  There is an integer column that contains `'---'` strings, which need dealing with or the reader will crash. This doesn't seem to be possible with the FITS table reader, so we resort to ascii, where we can fix it with the `fill_values` parameter."
   ]
  },
  {
   "cell_type": "code",
   "execution_count": 10,
   "metadata": {},
   "outputs": [],
   "source": [
    "tab05 = Table.read(\"data/Kobulnicky2017/table5.dat\", \n",
    "                   fill_values=[('---', -1)], \n",
    "                   format='ascii.cds', \n",
    "                   readme=\"data/Kobulnicky2017/ReadMe\")"
   ]
  },
  {
   "cell_type": "code",
   "execution_count": 11,
   "metadata": {},
   "outputs": [],
   "source": [
    "tab05.remove_columns(\n",
    "    [\n",
    "        'TSS', 'T22/T70', 'T70/160', \n",
    "    ]\n",
    ")"
   ]
  },
  {
   "cell_type": "code",
   "execution_count": 12,
   "metadata": {},
   "outputs": [],
   "source": [
    "import astropy.units as u"
   ]
  },
  {
   "cell_type": "code",
   "execution_count": 13,
   "metadata": {},
   "outputs": [],
   "source": [
    "import astropy.constants as const"
   ]
  },
  {
   "cell_type": "code",
   "execution_count": 14,
   "metadata": {},
   "outputs": [],
   "source": [
    "tab05['LIR'] = tab05['FIR'].to(u.erg/u.cm**2/u.s)*4*np.pi*(tab05['Dist']*1e3*u.parsec).to(u.cm)**2 / const.L_sun.to(u.erg/u.s)"
   ]
  },
  {
   "cell_type": "code",
   "execution_count": 15,
   "metadata": {},
   "outputs": [
    {
     "data": {
      "text/html": [
       "&lt;Table masked=True length=20&gt;\n",
       "<table id=\"table4842695704\" class=\"table-striped table-bordered table-condensed\">\n",
       "<thead><tr><th>ID</th><th>Name1</th><th>Name</th><th>SpType</th><th>Teff</th><th>R*</th><th>Dist</th><th>Dist1</th><th>Dist2</th><th>U</th><th>FIR</th><th>L*/LIR</th><th>LIR</th></tr></thead>\n",
       "<thead><tr><th></th><th></th><th></th><th></th><th>K</th><th>solRad</th><th>kpc</th><th>arcsec</th><th>pc</th><th></th><th>mW / m2</th><th></th><th></th></tr></thead>\n",
       "<thead><tr><th>int64</th><th>str15</th><th>str17</th><th>str11</th><th>int64</th><th>float64</th><th>float64</th><th>float64</th><th>float64</th><th>float64</th><th>float64</th><th>float64</th><th>float64</th></tr></thead>\n",
       "<tr><td>13</td><td>zeta Oph</td><td>G006.2812+23.5877</td><td>O9.2IV</td><td>31000</td><td>7.2</td><td>0.14</td><td>29.0</td><td>0.02</td><td>170000.0</td><td>6.4e-08</td><td>1110.0</td><td>39.2080344138</td></tr>\n",
       "<tr><td>67</td><td>NGC 6611 ESL 45</td><td>G017.0826+00.9744</td><td>O9V</td><td>31500</td><td>7.7</td><td>1.99</td><td>7.5</td><td>0.07</td><td>16000.0</td><td>5.8e-08</td><td>8.4</td><td>7179.15238422</td></tr>\n",
       "<tr><td>329</td><td>KGK 2010 10</td><td>G077.0505-00.6094</td><td>O7V</td><td>35500</td><td>9.3</td><td>1.32</td><td>10.0</td><td>0.06</td><td>46000.0</td><td>5.1e-10</td><td>4400.0</td><td>27.7751916238</td></tr>\n",
       "<tr><td>331</td><td>LS II+39 53</td><td>G078.2869+00.7780</td><td>O7V</td><td>35500</td><td>9.3</td><td>1.32</td><td>25.0</td><td>0.18</td><td>7300.0</td><td>5.3e-09</td><td>430.0</td><td>288.644148248</td></tr>\n",
       "<tr><td>338</td><td>CPR2002A10</td><td>G078.8223+00.0959</td><td>O9V</td><td>31500</td><td>7.7</td><td>1.32</td><td>23.0</td><td>0.15</td><td>3800.0</td><td>6.9e-09</td><td>160.0</td><td>375.782004322</td></tr>\n",
       "<tr><td>339</td><td>CPR2002A37</td><td>G080.2400+00.1354</td><td>O5V</td><td>41500</td><td>11.1</td><td>1.32</td><td>70.0</td><td>0.45</td><td>2600.0</td><td>6e-09</td><td>1100.0</td><td>326.76696028</td></tr>\n",
       "<tr><td>341</td><td>KGK2010 1</td><td>G080.8621+00.9749</td><td>B2V</td><td>20900</td><td>5.4</td><td>1.32</td><td>20.0</td><td>0.13</td><td>470.0</td><td>1.9e-09</td><td>43.0</td><td>103.476204089</td></tr>\n",
       "<tr><td>342</td><td>KGK2010 2</td><td>G080.9020+00.9828</td><td>B2V</td><td>20900</td><td>5.4</td><td>1.32</td><td>10.0</td><td>0.06</td><td>1900.0</td><td>6e-10</td><td>140.0</td><td>32.676696028</td></tr>\n",
       "<tr><td>344</td><td>BD+43 3654</td><td>G082.4100+02.3254</td><td>O4If</td><td>40700</td><td>19.0</td><td>1.32</td><td>193.0</td><td>1.24</td><td>910.0</td><td>5e-08</td><td>350.0</td><td>2723.05800234</td></tr>\n",
       "<tr><td>368</td><td>KM Cas</td><td>G134.3552+00.8182</td><td>O9.5V</td><td>30500</td><td>7.4</td><td>2.0</td><td>14.0</td><td>0.13</td><td>3700.0</td><td>1.4e-10</td><td>2400.0</td><td>17.5035867919</td></tr>\n",
       "<tr><td>369</td><td>BD+60 586</td><td>G137.4203+01.2792</td><td>O7.5V/O8III</td><td>34400</td><td>8.9</td><td>2.0</td><td>73.0</td><td>0.71</td><td>320.0</td><td>1.4e-09</td><td>640.0</td><td>175.035867919</td></tr>\n",
       "<tr><td>380</td><td>HD 53367</td><td>G223.7092-01.9008</td><td>B0IVe</td><td>30000</td><td>7.4</td><td>0.26</td><td>15.0</td><td>0.02</td><td>180000.0</td><td>3.3e-09</td><td>5400.0</td><td>6.97267882416</td></tr>\n",
       "<tr><td>381</td><td>HD 54662</td><td>G224.1685-00.7784</td><td>O7V</td><td>35500</td><td>9.4</td><td>0.63</td><td>71.0</td><td>0.22</td><td>4200.0</td><td>4.4e-09</td><td>2300.0</td><td>54.5849354105</td></tr>\n",
       "<tr><td>382</td><td>FN CMa</td><td>G224.7096-01.7938</td><td>B2Ia</td><td>17600</td><td>30.0</td><td>0.93</td><td>101.0</td><td>0.45</td><td>580.0</td><td>3.2e-09</td><td>980.0</td><td>86.5077269503</td></tr>\n",
       "<tr><td>406</td><td>HD 92607</td><td>G287.1148-01.0236</td><td>O8V+O9V</td><td>33400</td><td>8.5</td><td>2.3</td><td>16.0</td><td>0.18</td><td>4100.0</td><td>1.9e-09</td><td>300.0</td><td>314.158126509</td></tr>\n",
       "<tr><td>407</td><td>HD 93249</td><td>G287.4071-00.3593</td><td>O9III</td><td>33400</td><td>13.6</td><td>2.3</td><td>7.8</td><td>0.09</td><td>31000.0</td><td>6.3e-09</td><td>160.0</td><td>1041.68220895</td></tr>\n",
       "<tr><td>409</td><td>HD 93027</td><td>G287.6131-01.1302</td><td>O9.5IV</td><td>30500</td><td>7.4</td><td>2.3</td><td>7.4</td><td>0.08</td><td>9900.0</td><td>7.6e-10</td><td>330.0</td><td>125.663250604</td></tr>\n",
       "<tr><td>410</td><td>HD 305536</td><td>G287.6736-01.0093</td><td>O9.5V+?</td><td>30500</td><td>7.4</td><td>2.3</td><td>3.7</td><td>0.04</td><td>39000.0</td><td>1.1e-09</td><td>220.0</td><td>181.881020611</td></tr>\n",
       "<tr><td>411</td><td>HD 305599</td><td>G288.1505-00.5059</td><td>B0Ib</td><td>25000</td><td>30.0</td><td>2.3</td><td>4.2</td><td>0.05</td><td>230000.0</td><td>4e-10</td><td>5100.0</td><td>66.1385529493</td></tr>\n",
       "<tr><td>413</td><td>HD 93683</td><td>G288.3138-01.3085</td><td>O9V</td><td>31500</td><td>7.7</td><td>2.3</td><td>15.0</td><td>0.17</td><td>2900.0</td><td>1e-09</td><td>360.0</td><td>165.346382373</td></tr>\n",
       "</table>"
      ],
      "text/plain": [
       "<Table masked=True length=20>\n",
       "  ID       Name1             Name       ...   FIR    L*/LIR      LIR     \n",
       "                                        ... mW / m2                      \n",
       "int64      str15            str17       ... float64 float64    float64   \n",
       "----- --------------- ----------------- ... ------- ------- -------------\n",
       "   13        zeta Oph G006.2812+23.5877 ... 6.4e-08  1110.0 39.2080344138\n",
       "   67 NGC 6611 ESL 45 G017.0826+00.9744 ... 5.8e-08     8.4 7179.15238422\n",
       "  329     KGK 2010 10 G077.0505-00.6094 ... 5.1e-10  4400.0 27.7751916238\n",
       "  331     LS II+39 53 G078.2869+00.7780 ... 5.3e-09   430.0 288.644148248\n",
       "  338      CPR2002A10 G078.8223+00.0959 ... 6.9e-09   160.0 375.782004322\n",
       "  339      CPR2002A37 G080.2400+00.1354 ...   6e-09  1100.0  326.76696028\n",
       "  341       KGK2010 1 G080.8621+00.9749 ... 1.9e-09    43.0 103.476204089\n",
       "  342       KGK2010 2 G080.9020+00.9828 ...   6e-10   140.0  32.676696028\n",
       "  344      BD+43 3654 G082.4100+02.3254 ...   5e-08   350.0 2723.05800234\n",
       "  368          KM Cas G134.3552+00.8182 ... 1.4e-10  2400.0 17.5035867919\n",
       "  369       BD+60 586 G137.4203+01.2792 ... 1.4e-09   640.0 175.035867919\n",
       "  380        HD 53367 G223.7092-01.9008 ... 3.3e-09  5400.0 6.97267882416\n",
       "  381        HD 54662 G224.1685-00.7784 ... 4.4e-09  2300.0 54.5849354105\n",
       "  382          FN CMa G224.7096-01.7938 ... 3.2e-09   980.0 86.5077269503\n",
       "  406        HD 92607 G287.1148-01.0236 ... 1.9e-09   300.0 314.158126509\n",
       "  407        HD 93249 G287.4071-00.3593 ... 6.3e-09   160.0 1041.68220895\n",
       "  409        HD 93027 G287.6131-01.1302 ... 7.6e-10   330.0 125.663250604\n",
       "  410       HD 305536 G287.6736-01.0093 ... 1.1e-09   220.0 181.881020611\n",
       "  411       HD 305599 G288.1505-00.5059 ...   4e-10  5100.0 66.1385529493\n",
       "  413        HD 93683 G288.3138-01.3085 ...   1e-09   360.0 165.346382373"
      ]
     },
     "execution_count": 15,
     "metadata": {},
     "output_type": "execute_result"
    }
   ],
   "source": [
    "tab05"
   ]
  },
  {
   "cell_type": "code",
   "execution_count": 16,
   "metadata": {},
   "outputs": [],
   "source": [
    "from astropy.table import join"
   ]
  },
  {
   "cell_type": "code",
   "execution_count": 17,
   "metadata": {},
   "outputs": [
    {
     "data": {
      "text/html": [
       "&lt;Table masked=True length=20&gt;\n",
       "<table id=\"table4843788440\" class=\"table-striped table-bordered table-condensed\">\n",
       "<thead><tr><th>ID</th><th>Name1</th><th>Name</th><th>SpType</th><th>Teff</th><th>R*</th><th>Dist</th><th>Dist1</th><th>Dist2</th><th>U</th><th>FIR</th><th>L*/LIR</th><th>LIR</th><th>Rad</th><th>Height</th><th>F8.0</th><th>F24</th><th>F70</th><th>F160</th><th>I70</th><th>T24/70</th></tr></thead>\n",
       "<thead><tr><th></th><th></th><th></th><th></th><th>K</th><th>solRad</th><th>kpc</th><th>arcsec</th><th>pc</th><th></th><th>mW / m2</th><th></th><th></th><th>arcsec</th><th>arcsec</th><th>Jy</th><th>Jy</th><th>Jy</th><th>Jy</th><th>Jy / arcmin2</th><th>K</th></tr></thead>\n",
       "<thead><tr><th>int64</th><th>str15</th><th>str17</th><th>str11</th><th>int64</th><th>float64</th><th>float64</th><th>float64</th><th>float64</th><th>float64</th><th>float64</th><th>float64</th><th>float64</th><th>int32</th><th>int32</th><th>float64</th><th>float64</th><th>float64</th><th>float64</th><th>float64</th><th>int32</th></tr></thead>\n",
       "<tr><td>13</td><td>zeta Oph</td><td>G006.2812+23.5877</td><td>O9.2IV</td><td>31000</td><td>7.2</td><td>0.14</td><td>29.0</td><td>0.02</td><td>170000.0</td><td>6.4e-08</td><td>1110.0</td><td>39.2080344138</td><td>--</td><td>--</td><td>--</td><td>--</td><td>--</td><td>--</td><td>--</td><td>--</td></tr>\n",
       "<tr><td>67</td><td>NGC 6611 ESL 45</td><td>G017.0826+00.9744</td><td>O9V</td><td>31500</td><td>7.7</td><td>1.99</td><td>7.5</td><td>0.07</td><td>16000.0</td><td>5.8e-08</td><td>8.4</td><td>7179.15238422</td><td>9</td><td>9</td><td>0.31</td><td>27.659</td><td>4.41</td><td>-5.4</td><td>38.7</td><td>708</td></tr>\n",
       "<tr><td>329</td><td>KGK 2010 10</td><td>G077.0505-00.6094</td><td>O7V</td><td>35500</td><td>9.3</td><td>1.32</td><td>10.0</td><td>0.06</td><td>46000.0</td><td>5.1e-10</td><td>4400.0</td><td>27.7751916238</td><td>--</td><td>--</td><td>--</td><td>--</td><td>--</td><td>--</td><td>--</td><td>--</td></tr>\n",
       "<tr><td>331</td><td>LS II+39 53</td><td>G078.2869+00.7780</td><td>O7V</td><td>35500</td><td>9.3</td><td>1.32</td><td>25.0</td><td>0.18</td><td>7300.0</td><td>5.3e-09</td><td>430.0</td><td>288.644148248</td><td>33</td><td>30</td><td>-0.017</td><td>28.45</td><td>12.72</td><td>-4.8</td><td>17.6</td><td>195</td></tr>\n",
       "<tr><td>338</td><td>CPR2002A10</td><td>G078.8223+00.0959</td><td>O9V</td><td>31500</td><td>7.7</td><td>1.32</td><td>23.0</td><td>0.15</td><td>3800.0</td><td>6.9e-09</td><td>160.0</td><td>375.782004322</td><td>24</td><td>16</td><td>1.179</td><td>32.85</td><td>55.63</td><td>-18.07</td><td>98.4</td><td>110</td></tr>\n",
       "<tr><td>339</td><td>CPR2002A37</td><td>G080.2400+00.1354</td><td>O5V</td><td>41500</td><td>11.1</td><td>1.32</td><td>70.0</td><td>0.45</td><td>2600.0</td><td>6e-09</td><td>1100.0</td><td>326.76696028</td><td>108</td><td>66</td><td>-0.34</td><td>31.116</td><td>40.7</td><td>-5.5</td><td>31.6</td><td>120</td></tr>\n",
       "<tr><td>341</td><td>KGK2010 1</td><td>G080.8621+00.9749</td><td>B2V</td><td>20900</td><td>5.4</td><td>1.32</td><td>20.0</td><td>0.13</td><td>470.0</td><td>1.9e-09</td><td>43.0</td><td>103.476204089</td><td>30</td><td>25</td><td>-0.278</td><td>10.669</td><td>11.98</td><td>-5.91</td><td>-99.9</td><td>126</td></tr>\n",
       "<tr><td>342</td><td>KGK2010 2</td><td>G080.9020+00.9828</td><td>B2V</td><td>20900</td><td>5.4</td><td>1.32</td><td>10.0</td><td>0.06</td><td>1900.0</td><td>6e-10</td><td>140.0</td><td>32.676696028</td><td>18</td><td>10</td><td>0.383</td><td>0.773</td><td>8.99</td><td>5.25</td><td>49.2</td><td>70</td></tr>\n",
       "<tr><td>344</td><td>BD+43 3654</td><td>G082.4100+02.3254</td><td>O4If</td><td>40700</td><td>19.0</td><td>1.32</td><td>193.0</td><td>1.24</td><td>910.0</td><td>5e-08</td><td>350.0</td><td>2723.05800234</td><td>--</td><td>--</td><td>--</td><td>--</td><td>--</td><td>--</td><td>--</td><td>--</td></tr>\n",
       "<tr><td>368</td><td>KM Cas</td><td>G134.3552+00.8182</td><td>O9.5V</td><td>30500</td><td>7.4</td><td>2.0</td><td>14.0</td><td>0.13</td><td>3700.0</td><td>1.4e-10</td><td>2400.0</td><td>17.5035867919</td><td>--</td><td>--</td><td>--</td><td>--</td><td>--</td><td>--</td><td>--</td><td>--</td></tr>\n",
       "<tr><td>369</td><td>BD+60 586</td><td>G137.4203+01.2792</td><td>O7.5V/O8III</td><td>34400</td><td>8.9</td><td>2.0</td><td>73.0</td><td>0.71</td><td>320.0</td><td>1.4e-09</td><td>640.0</td><td>175.035867919</td><td>--</td><td>--</td><td>--</td><td>--</td><td>--</td><td>--</td><td>--</td><td>--</td></tr>\n",
       "<tr><td>380</td><td>HD 53367</td><td>G223.7092-01.9008</td><td>B0IVe</td><td>30000</td><td>7.4</td><td>0.26</td><td>15.0</td><td>0.02</td><td>180000.0</td><td>3.3e-09</td><td>5400.0</td><td>6.97267882416</td><td>--</td><td>--</td><td>--</td><td>--</td><td>--</td><td>--</td><td>--</td><td>--</td></tr>\n",
       "<tr><td>381</td><td>HD 54662</td><td>G224.1685-00.7784</td><td>O7V</td><td>35500</td><td>9.4</td><td>0.63</td><td>71.0</td><td>0.22</td><td>4200.0</td><td>4.4e-09</td><td>2300.0</td><td>54.5849354105</td><td>--</td><td>--</td><td>--</td><td>--</td><td>--</td><td>--</td><td>--</td><td>--</td></tr>\n",
       "<tr><td>382</td><td>FN CMa</td><td>G224.7096-01.7938</td><td>B2Ia</td><td>17600</td><td>30.0</td><td>0.93</td><td>101.0</td><td>0.45</td><td>580.0</td><td>3.2e-09</td><td>980.0</td><td>86.5077269503</td><td>--</td><td>--</td><td>--</td><td>--</td><td>--</td><td>--</td><td>--</td><td>--</td></tr>\n",
       "<tr><td>406</td><td>HD 92607</td><td>G287.1148-01.0236</td><td>O8V+O9V</td><td>33400</td><td>8.5</td><td>2.3</td><td>16.0</td><td>0.18</td><td>4100.0</td><td>1.9e-09</td><td>300.0</td><td>314.158126509</td><td>--</td><td>--</td><td>--</td><td>--</td><td>--</td><td>--</td><td>--</td><td>--</td></tr>\n",
       "<tr><td>407</td><td>HD 93249</td><td>G287.4071-00.3593</td><td>O9III</td><td>33400</td><td>13.6</td><td>2.3</td><td>7.8</td><td>0.09</td><td>31000.0</td><td>6.3e-09</td><td>160.0</td><td>1041.68220895</td><td>23</td><td>23</td><td>0.495</td><td>36.7</td><td>31.1</td><td>-19.5</td><td>38.7</td><td>141</td></tr>\n",
       "<tr><td>409</td><td>HD 93027</td><td>G287.6131-01.1302</td><td>O9.5IV</td><td>30500</td><td>7.4</td><td>2.3</td><td>7.4</td><td>0.08</td><td>9900.0</td><td>7.6e-10</td><td>330.0</td><td>125.663250604</td><td>12</td><td>14</td><td>0.156</td><td>3.46</td><td>1.22</td><td>-1.48</td><td>7.0</td><td>229</td></tr>\n",
       "<tr><td>410</td><td>HD 305536</td><td>G287.6736-01.0093</td><td>O9.5V+?</td><td>30500</td><td>7.4</td><td>2.3</td><td>3.7</td><td>0.04</td><td>39000.0</td><td>1.1e-09</td><td>220.0</td><td>181.881020611</td><td>4</td><td>6</td><td>1.623</td><td>4.65</td><td>10.21</td><td>-2.35</td><td>73.8</td><td>102</td></tr>\n",
       "<tr><td>411</td><td>HD 305599</td><td>G288.1505-00.5059</td><td>B0Ib</td><td>25000</td><td>30.0</td><td>2.3</td><td>4.2</td><td>0.05</td><td>230000.0</td><td>4e-10</td><td>5100.0</td><td>66.1385529493</td><td>9</td><td>8</td><td>0.176</td><td>1.77</td><td>3.46</td><td>-1.16</td><td>31.6</td><td>106</td></tr>\n",
       "<tr><td>413</td><td>HD 93683</td><td>G288.3138-01.3085</td><td>O9V</td><td>31500</td><td>7.7</td><td>2.3</td><td>15.0</td><td>0.17</td><td>2900.0</td><td>1e-09</td><td>360.0</td><td>165.346382373</td><td>--</td><td>--</td><td>--</td><td>--</td><td>--</td><td>--</td><td>--</td><td>--</td></tr>\n",
       "</table>"
      ],
      "text/plain": [
       "<Table masked=True length=20>\n",
       "  ID       Name1             Name       ...   F160      I70      T24/70\n",
       "                                        ...    Jy   Jy / arcmin2   K   \n",
       "int64      str15            str17       ... float64   float64    int32 \n",
       "----- --------------- ----------------- ... ------- ------------ ------\n",
       "   13        zeta Oph G006.2812+23.5877 ...      --           --     --\n",
       "   67 NGC 6611 ESL 45 G017.0826+00.9744 ...    -5.4         38.7    708\n",
       "  329     KGK 2010 10 G077.0505-00.6094 ...      --           --     --\n",
       "  331     LS II+39 53 G078.2869+00.7780 ...    -4.8         17.6    195\n",
       "  338      CPR2002A10 G078.8223+00.0959 ...  -18.07         98.4    110\n",
       "  339      CPR2002A37 G080.2400+00.1354 ...    -5.5         31.6    120\n",
       "  341       KGK2010 1 G080.8621+00.9749 ...   -5.91        -99.9    126\n",
       "  342       KGK2010 2 G080.9020+00.9828 ...    5.25         49.2     70\n",
       "  344      BD+43 3654 G082.4100+02.3254 ...      --           --     --\n",
       "  368          KM Cas G134.3552+00.8182 ...      --           --     --\n",
       "  369       BD+60 586 G137.4203+01.2792 ...      --           --     --\n",
       "  380        HD 53367 G223.7092-01.9008 ...      --           --     --\n",
       "  381        HD 54662 G224.1685-00.7784 ...      --           --     --\n",
       "  382          FN CMa G224.7096-01.7938 ...      --           --     --\n",
       "  406        HD 92607 G287.1148-01.0236 ...      --           --     --\n",
       "  407        HD 93249 G287.4071-00.3593 ...   -19.5         38.7    141\n",
       "  409        HD 93027 G287.6131-01.1302 ...   -1.48          7.0    229\n",
       "  410       HD 305536 G287.6736-01.0093 ...   -2.35         73.8    102\n",
       "  411       HD 305599 G288.1505-00.5059 ...   -1.16         31.6    106\n",
       "  413        HD 93683 G288.3138-01.3085 ...      --           --     --"
      ]
     },
     "execution_count": 17,
     "metadata": {},
     "output_type": "execute_result"
    }
   ],
   "source": [
    "tab05_01 = join(tab05, tab01, keys=('ID'), join_type='left')\n",
    "tab05_01.remove_columns(['F3.6', 'F4.5', 'F5.8',])\n",
    "tab05_01"
   ]
  },
  {
   "cell_type": "code",
   "execution_count": 18,
   "metadata": {},
   "outputs": [
    {
     "name": "stderr",
     "output_type": "stream",
     "text": [
      "WARNING: MergeConflictWarning: Cannot merge meta key 'EXTNAME' types <class 'str'> and <class 'str'>, choosing EXTNAME='table2.dat' [astropy.utils.metadata]\n",
      "WARNING: MergeConflictWarning: Cannot merge meta key 'TAMIN1' types <class 'int'> and <class 'int'>, choosing TAMIN1=13 [astropy.utils.metadata]\n",
      "WARNING: MergeConflictWarning: Cannot merge meta key 'TAMAX1' types <class 'int'> and <class 'int'>, choosing TAMAX1=691 [astropy.utils.metadata]\n",
      "WARNING: MergeConflictWarning: Cannot merge meta key 'TAMIN10' types <class 'int'> and <class 'int'>, choosing TAMIN10=5 [astropy.utils.metadata]\n",
      "WARNING: MergeConflictWarning: Cannot merge meta key 'TAMAX10' types <class 'int'> and <class 'int'>, choosing TAMAX10=900 [astropy.utils.metadata]\n",
      "WARNING: MergeConflictWarning: Cannot merge meta key 'TAMIN11' types <class 'int'> and <class 'int'>, choosing TAMIN11=7 [astropy.utils.metadata]\n",
      "WARNING: MergeConflictWarning: Cannot merge meta key 'TAMAX11' types <class 'int'> and <class 'int'>, choosing TAMAX11=600 [astropy.utils.metadata]\n",
      "WARNING: MergeConflictWarning: Cannot merge meta key 'TAMAX13' types <class 'float'> and <class 'float'>, choosing TAMAX13=6.25 [astropy.utils.metadata]\n",
      "WARNING: MergeConflictWarning: Cannot merge meta key 'TAMAX15' types <class 'float'> and <class 'float'>, choosing TAMAX15=7.995 [astropy.utils.metadata]\n",
      "WARNING: MergeConflictWarning: Cannot merge meta key 'TAMIN17' types <class 'float'> and <class 'float'>, choosing TAMIN17=0.001 [astropy.utils.metadata]\n",
      "WARNING: MergeConflictWarning: Cannot merge meta key 'TAMAX17' types <class 'float'> and <class 'float'>, choosing TAMAX17=51.32 [astropy.utils.metadata]\n",
      "WARNING: MergeConflictWarning: Cannot merge meta key 'TAMIN20' types <class 'float'> and <class 'float'>, choosing TAMIN20=0.09 [astropy.utils.metadata]\n",
      "WARNING: MergeConflictWarning: Cannot merge meta key 'TAMAX20' types <class 'float'> and <class 'float'>, choosing TAMAX20=482.2 [astropy.utils.metadata]\n",
      "WARNING: MergeConflictWarning: Cannot merge meta key 'TAMIN22' types <class 'float'> and <class 'float'>, choosing TAMIN22=0.15 [astropy.utils.metadata]\n",
      "WARNING: MergeConflictWarning: Cannot merge meta key 'TAMAX22' types <class 'float'> and <class 'float'>, choosing TAMAX22=134.8 [astropy.utils.metadata]\n",
      "WARNING: MergeConflictWarning: Cannot merge meta key 'TAMIN24' types <class 'float'> and <class 'int'>, choosing TAMIN24=81 [astropy.utils.metadata]\n",
      "WARNING: MergeConflictWarning: Cannot merge meta key 'TAMAX24' types <class 'float'> and <class 'int'>, choosing TAMAX24=230 [astropy.utils.metadata]\n",
      "WARNING: MergeConflictWarning: Cannot merge meta key 'TBNUL24' types <class 'float'> and <class 'int'>, choosing TBNUL24=-99 [astropy.utils.metadata]\n",
      "WARNING: MergeConflictWarning: Cannot merge meta key 'TAMIN25' types <class 'float'> and <class 'int'>, choosing TAMIN25=39 [astropy.utils.metadata]\n",
      "WARNING: MergeConflictWarning: Cannot merge meta key 'TAMAX25' types <class 'float'> and <class 'int'>, choosing TAMAX25=240 [astropy.utils.metadata]\n",
      "WARNING: MergeConflictWarning: Cannot merge meta key 'TBNUL25' types <class 'float'> and <class 'int'>, choosing TBNUL25=-99 [astropy.utils.metadata]\n"
     ]
    },
    {
     "data": {
      "text/html": [
       "&lt;Table masked=True length=20&gt;\n",
       "<table id=\"table4843869856\" class=\"table-striped table-bordered table-condensed\">\n",
       "<thead><tr><th>ID</th><th>Name1</th><th>Name</th><th>SpType</th><th>Teff</th><th>R*</th><th>Dist</th><th>Dist1</th><th>Dist2</th><th>U</th><th>FIR</th><th>L*/LIR</th><th>LIR</th><th>Rad_1</th><th>Height_1</th><th>F8.0</th><th>F24</th><th>F70_1</th><th>F160_1</th><th>I70_1</th><th>T24/70</th><th>Rad_2</th><th>Height_2</th><th>F12</th><th>F22</th><th>F70_2</th><th>F160_2</th><th>I70_2</th><th>T22/70</th></tr></thead>\n",
       "<thead><tr><th></th><th></th><th></th><th></th><th>K</th><th>solRad</th><th>kpc</th><th>arcsec</th><th>pc</th><th></th><th>mW / m2</th><th></th><th></th><th>arcsec</th><th>arcsec</th><th>Jy</th><th>Jy</th><th>Jy</th><th>Jy</th><th>Jy / arcmin2</th><th>K</th><th>arcsec</th><th>arcsec</th><th>Jy</th><th>Jy</th><th>Jy</th><th>Jy</th><th>Jy / arcmin2</th><th>K</th></tr></thead>\n",
       "<thead><tr><th>int64</th><th>str15</th><th>str17</th><th>str11</th><th>int64</th><th>float64</th><th>float64</th><th>float64</th><th>float64</th><th>float64</th><th>float64</th><th>float64</th><th>float64</th><th>int32</th><th>int32</th><th>float64</th><th>float64</th><th>float64</th><th>float64</th><th>float64</th><th>int32</th><th>int32</th><th>int32</th><th>float64</th><th>float64</th><th>float64</th><th>float64</th><th>float64</th><th>int32</th></tr></thead>\n",
       "<tr><td>13</td><td>zeta Oph</td><td>G006.2812+23.5877</td><td>O9.2IV</td><td>31000</td><td>7.2</td><td>0.14</td><td>29.0</td><td>0.02</td><td>170000.0</td><td>6.4e-08</td><td>1110.0</td><td>39.2080344138</td><td>--</td><td>--</td><td>--</td><td>--</td><td>--</td><td>--</td><td>--</td><td>--</td><td>173</td><td>404</td><td>51.32</td><td>343.77</td><td>246.7</td><td>61.55</td><td>9.8</td><td>158</td></tr>\n",
       "<tr><td>67</td><td>NGC 6611 ESL 45</td><td>G017.0826+00.9744</td><td>O9V</td><td>31500</td><td>7.7</td><td>1.99</td><td>7.5</td><td>0.07</td><td>16000.0</td><td>5.8e-08</td><td>8.4</td><td>7179.15238422</td><td>9</td><td>9</td><td>0.31</td><td>27.659</td><td>4.41</td><td>-5.4</td><td>38.7</td><td>708</td><td>--</td><td>--</td><td>--</td><td>--</td><td>--</td><td>--</td><td>--</td><td>--</td></tr>\n",
       "<tr><td>329</td><td>KGK 2010 10</td><td>G077.0505-00.6094</td><td>O7V</td><td>35500</td><td>9.3</td><td>1.32</td><td>10.0</td><td>0.06</td><td>46000.0</td><td>5.1e-10</td><td>4400.0</td><td>27.7751916238</td><td>--</td><td>--</td><td>--</td><td>--</td><td>--</td><td>--</td><td>--</td><td>--</td><td>--</td><td>--</td><td>--</td><td>--</td><td>--</td><td>--</td><td>--</td><td>--</td></tr>\n",
       "<tr><td>331</td><td>LS II+39 53</td><td>G078.2869+00.7780</td><td>O7V</td><td>35500</td><td>9.3</td><td>1.32</td><td>25.0</td><td>0.18</td><td>7300.0</td><td>5.3e-09</td><td>430.0</td><td>288.644148248</td><td>33</td><td>30</td><td>-0.017</td><td>28.45</td><td>12.72</td><td>-4.8</td><td>17.6</td><td>195</td><td>--</td><td>--</td><td>--</td><td>--</td><td>--</td><td>--</td><td>--</td><td>--</td></tr>\n",
       "<tr><td>338</td><td>CPR2002A10</td><td>G078.8223+00.0959</td><td>O9V</td><td>31500</td><td>7.7</td><td>1.32</td><td>23.0</td><td>0.15</td><td>3800.0</td><td>6.9e-09</td><td>160.0</td><td>375.782004322</td><td>24</td><td>16</td><td>1.179</td><td>32.85</td><td>55.63</td><td>-18.07</td><td>98.4</td><td>110</td><td>--</td><td>--</td><td>--</td><td>--</td><td>--</td><td>--</td><td>--</td><td>--</td></tr>\n",
       "<tr><td>339</td><td>CPR2002A37</td><td>G080.2400+00.1354</td><td>O5V</td><td>41500</td><td>11.1</td><td>1.32</td><td>70.0</td><td>0.45</td><td>2600.0</td><td>6e-09</td><td>1100.0</td><td>326.76696028</td><td>108</td><td>66</td><td>-0.34</td><td>31.116</td><td>40.7</td><td>-5.5</td><td>31.6</td><td>120</td><td>--</td><td>--</td><td>--</td><td>--</td><td>--</td><td>--</td><td>--</td><td>--</td></tr>\n",
       "<tr><td>341</td><td>KGK2010 1</td><td>G080.8621+00.9749</td><td>B2V</td><td>20900</td><td>5.4</td><td>1.32</td><td>20.0</td><td>0.13</td><td>470.0</td><td>1.9e-09</td><td>43.0</td><td>103.476204089</td><td>30</td><td>25</td><td>-0.278</td><td>10.669</td><td>11.98</td><td>-5.91</td><td>-99.9</td><td>126</td><td>--</td><td>--</td><td>--</td><td>--</td><td>--</td><td>--</td><td>--</td><td>--</td></tr>\n",
       "<tr><td>342</td><td>KGK2010 2</td><td>G080.9020+00.9828</td><td>B2V</td><td>20900</td><td>5.4</td><td>1.32</td><td>10.0</td><td>0.06</td><td>1900.0</td><td>6e-10</td><td>140.0</td><td>32.676696028</td><td>18</td><td>10</td><td>0.383</td><td>0.773</td><td>8.99</td><td>5.25</td><td>49.2</td><td>70</td><td>--</td><td>--</td><td>--</td><td>--</td><td>--</td><td>--</td><td>--</td><td>--</td></tr>\n",
       "<tr><td>344</td><td>BD+43 3654</td><td>G082.4100+02.3254</td><td>O4If</td><td>40700</td><td>19.0</td><td>1.32</td><td>193.0</td><td>1.24</td><td>910.0</td><td>5e-08</td><td>350.0</td><td>2723.05800234</td><td>--</td><td>--</td><td>--</td><td>--</td><td>--</td><td>--</td><td>--</td><td>--</td><td>171</td><td>108</td><td>18.036</td><td>141.124</td><td>482.2</td><td>134.8</td><td>52.7</td><td>98</td></tr>\n",
       "<tr><td>368</td><td>KM Cas</td><td>G134.3552+00.8182</td><td>O9.5V</td><td>30500</td><td>7.4</td><td>2.0</td><td>14.0</td><td>0.13</td><td>3700.0</td><td>1.4e-10</td><td>2400.0</td><td>17.5035867919</td><td>--</td><td>--</td><td>--</td><td>--</td><td>--</td><td>--</td><td>--</td><td>--</td><td>22</td><td>16</td><td>0.057</td><td>0.375</td><td>1.39</td><td>-0.22</td><td>17.6</td><td>96</td></tr>\n",
       "<tr><td>369</td><td>BD+60 586</td><td>G137.4203+01.2792</td><td>O7.5V/O8III</td><td>34400</td><td>8.9</td><td>2.0</td><td>73.0</td><td>0.71</td><td>320.0</td><td>1.4e-09</td><td>640.0</td><td>175.035867919</td><td>--</td><td>--</td><td>--</td><td>--</td><td>--</td><td>--</td><td>--</td><td>--</td><td>67</td><td>47</td><td>0.199</td><td>2.089</td><td>17.38</td><td>5.25</td><td>7.0</td><td>81</td></tr>\n",
       "<tr><td>380</td><td>HD 53367</td><td>G223.7092-01.9008</td><td>B0IVe</td><td>30000</td><td>7.4</td><td>0.26</td><td>15.0</td><td>0.02</td><td>180000.0</td><td>3.3e-09</td><td>5400.0</td><td>6.97267882416</td><td>--</td><td>--</td><td>--</td><td>--</td><td>--</td><td>--</td><td>--</td><td>--</td><td>23</td><td>42</td><td>1.727</td><td>17.743</td><td>9.18</td><td>-0.91</td><td>24.6</td><td>183</td></tr>\n",
       "<tr><td>381</td><td>HD 54662</td><td>G224.1685-00.7784</td><td>O7V</td><td>35500</td><td>9.4</td><td>0.63</td><td>71.0</td><td>0.22</td><td>4200.0</td><td>4.4e-09</td><td>2300.0</td><td>54.5849354105</td><td>--</td><td>--</td><td>--</td><td>--</td><td>--</td><td>--</td><td>--</td><td>--</td><td>220</td><td>214</td><td>0.227</td><td>6.796</td><td>56.15</td><td>-53.38</td><td>3.5</td><td>82</td></tr>\n",
       "<tr><td>382</td><td>FN CMa</td><td>G224.7096-01.7938</td><td>B2Ia</td><td>17600</td><td>30.0</td><td>0.93</td><td>101.0</td><td>0.45</td><td>580.0</td><td>3.2e-09</td><td>980.0</td><td>86.5077269503</td><td>--</td><td>--</td><td>--</td><td>--</td><td>--</td><td>--</td><td>--</td><td>--</td><td>133</td><td>44</td><td>0.939</td><td>9.524</td><td>29.64</td><td>-11.83</td><td>10.6</td><td>100</td></tr>\n",
       "<tr><td>406</td><td>HD 92607</td><td>G287.1148-01.0236</td><td>O8V+O9V</td><td>33400</td><td>8.5</td><td>2.3</td><td>16.0</td><td>0.18</td><td>4100.0</td><td>1.9e-09</td><td>300.0</td><td>314.158126509</td><td>--</td><td>--</td><td>--</td><td>--</td><td>--</td><td>--</td><td>--</td><td>--</td><td>25</td><td>15</td><td>1.828</td><td>8.969</td><td>3.13</td><td>-3.4</td><td>35.2</td><td>230</td></tr>\n",
       "<tr><td>407</td><td>HD 93249</td><td>G287.4071-00.3593</td><td>O9III</td><td>33400</td><td>13.6</td><td>2.3</td><td>7.8</td><td>0.09</td><td>31000.0</td><td>6.3e-09</td><td>160.0</td><td>1041.68220895</td><td>23</td><td>23</td><td>0.495</td><td>36.7</td><td>31.1</td><td>-19.5</td><td>38.7</td><td>141</td><td>--</td><td>--</td><td>--</td><td>--</td><td>--</td><td>--</td><td>--</td><td>--</td></tr>\n",
       "<tr><td>409</td><td>HD 93027</td><td>G287.6131-01.1302</td><td>O9.5IV</td><td>30500</td><td>7.4</td><td>2.3</td><td>7.4</td><td>0.08</td><td>9900.0</td><td>7.6e-10</td><td>330.0</td><td>125.663250604</td><td>12</td><td>14</td><td>0.156</td><td>3.46</td><td>1.22</td><td>-1.48</td><td>7.0</td><td>229</td><td>--</td><td>--</td><td>--</td><td>--</td><td>--</td><td>--</td><td>--</td><td>--</td></tr>\n",
       "<tr><td>410</td><td>HD 305536</td><td>G287.6736-01.0093</td><td>O9.5V+?</td><td>30500</td><td>7.4</td><td>2.3</td><td>3.7</td><td>0.04</td><td>39000.0</td><td>1.1e-09</td><td>220.0</td><td>181.881020611</td><td>4</td><td>6</td><td>1.623</td><td>4.65</td><td>10.21</td><td>-2.35</td><td>73.8</td><td>102</td><td>--</td><td>--</td><td>--</td><td>--</td><td>--</td><td>--</td><td>--</td><td>--</td></tr>\n",
       "<tr><td>411</td><td>HD 305599</td><td>G288.1505-00.5059</td><td>B0Ib</td><td>25000</td><td>30.0</td><td>2.3</td><td>4.2</td><td>0.05</td><td>230000.0</td><td>4e-10</td><td>5100.0</td><td>66.1385529493</td><td>9</td><td>8</td><td>0.176</td><td>1.77</td><td>3.46</td><td>-1.16</td><td>31.6</td><td>106</td><td>--</td><td>--</td><td>--</td><td>--</td><td>--</td><td>--</td><td>--</td><td>--</td></tr>\n",
       "<tr><td>413</td><td>HD 93683</td><td>G288.3138-01.3085</td><td>O9V</td><td>31500</td><td>7.7</td><td>2.3</td><td>15.0</td><td>0.17</td><td>2900.0</td><td>1e-09</td><td>360.0</td><td>165.346382373</td><td>--</td><td>--</td><td>--</td><td>--</td><td>--</td><td>--</td><td>--</td><td>--</td><td>25</td><td>24</td><td>0.319</td><td>4.524</td><td>6.87</td><td>-5.48</td><td>10.6</td><td>122</td></tr>\n",
       "</table>"
      ],
      "text/plain": [
       "<Table masked=True length=20>\n",
       "  ID       Name1             Name       ...  F160_2    I70_2     T22/70\n",
       "                                        ...    Jy   Jy / arcmin2   K   \n",
       "int64      str15            str17       ... float64   float64    int32 \n",
       "----- --------------- ----------------- ... ------- ------------ ------\n",
       "   13        zeta Oph G006.2812+23.5877 ...   61.55          9.8    158\n",
       "   67 NGC 6611 ESL 45 G017.0826+00.9744 ...      --           --     --\n",
       "  329     KGK 2010 10 G077.0505-00.6094 ...      --           --     --\n",
       "  331     LS II+39 53 G078.2869+00.7780 ...      --           --     --\n",
       "  338      CPR2002A10 G078.8223+00.0959 ...      --           --     --\n",
       "  339      CPR2002A37 G080.2400+00.1354 ...      --           --     --\n",
       "  341       KGK2010 1 G080.8621+00.9749 ...      --           --     --\n",
       "  342       KGK2010 2 G080.9020+00.9828 ...      --           --     --\n",
       "  344      BD+43 3654 G082.4100+02.3254 ...   134.8         52.7     98\n",
       "  368          KM Cas G134.3552+00.8182 ...   -0.22         17.6     96\n",
       "  369       BD+60 586 G137.4203+01.2792 ...    5.25          7.0     81\n",
       "  380        HD 53367 G223.7092-01.9008 ...   -0.91         24.6    183\n",
       "  381        HD 54662 G224.1685-00.7784 ...  -53.38          3.5     82\n",
       "  382          FN CMa G224.7096-01.7938 ...  -11.83         10.6    100\n",
       "  406        HD 92607 G287.1148-01.0236 ...    -3.4         35.2    230\n",
       "  407        HD 93249 G287.4071-00.3593 ...      --           --     --\n",
       "  409        HD 93027 G287.6131-01.1302 ...      --           --     --\n",
       "  410       HD 305536 G287.6736-01.0093 ...      --           --     --\n",
       "  411       HD 305599 G288.1505-00.5059 ...      --           --     --\n",
       "  413        HD 93683 G288.3138-01.3085 ...   -5.48         10.6    122"
      ]
     },
     "execution_count": 18,
     "metadata": {},
     "output_type": "execute_result"
    }
   ],
   "source": [
    "tab05_01_02 = join(tab05_01, tab02, keys=('ID'), join_type='left')\n",
    "tab05_01_02.remove_columns(['F3.4', 'F4.6',])\n",
    "tab05_01_02"
   ]
  },
  {
   "cell_type": "markdown",
   "metadata": {},
   "source": [
    "Now merge the WISE and Spitzer photometry, taking (8, 12) and (22, 24) as equivalent."
   ]
  },
  {
   "cell_type": "code",
   "execution_count": 19,
   "metadata": {},
   "outputs": [
    {
     "data": {
      "text/plain": [
       "(array([False,  True, False,  True,  True,  True,  True,  True, False,\n",
       "        False, False, False, False, False, False,  True,  True,  True,\n",
       "         True, False], dtype=bool),\n",
       " array([ True, False, False, False, False, False, False, False,  True,\n",
       "         True,  True,  True,  True,  True,  True, False, False, False,\n",
       "        False,  True], dtype=bool))"
      ]
     },
     "execution_count": 19,
     "metadata": {},
     "output_type": "execute_result"
    }
   ],
   "source": [
    "# Make a mask that is true for rows with Spitzer photometry\n",
    "m_sst = ~tab05_01_02['Rad_1'].mask\n",
    "m_wise = ~tab05_01_02['Rad_2'].mask\n",
    "m_sst, m_wise"
   ]
  },
  {
   "cell_type": "code",
   "execution_count": 20,
   "metadata": {},
   "outputs": [
    {
     "data": {
      "text/html": [
       "&lt;Table masked=True length=20&gt;\n",
       "<table id=\"table4843869856\" class=\"table-striped table-bordered table-condensed\">\n",
       "<thead><tr><th>ID</th><th>Name1</th><th>Name</th><th>SpType</th><th>Teff</th><th>R*</th><th>Dist</th><th>Dist1</th><th>Dist2</th><th>U</th><th>FIR</th><th>L*/LIR</th><th>LIR</th><th>Rad</th><th>Height</th><th>F8 or 12</th><th>F24 or 22</th><th>F70</th><th>F160</th><th>I70</th><th>T2x/70</th><th>Observatory</th></tr></thead>\n",
       "<thead><tr><th></th><th></th><th></th><th></th><th>K</th><th>solRad</th><th>kpc</th><th>arcsec</th><th>pc</th><th></th><th>mW / m2</th><th></th><th></th><th></th><th></th><th></th><th></th><th></th><th></th><th></th><th></th><th></th></tr></thead>\n",
       "<thead><tr><th>int64</th><th>str15</th><th>str17</th><th>str11</th><th>int64</th><th>float64</th><th>float64</th><th>float64</th><th>float64</th><th>float64</th><th>float64</th><th>float64</th><th>float64</th><th>float64</th><th>float64</th><th>float64</th><th>float64</th><th>float64</th><th>float64</th><th>float64</th><th>float64</th><th>object</th></tr></thead>\n",
       "<tr><td>13</td><td>zeta Oph</td><td>G006.2812+23.5877</td><td>O9.2IV</td><td>31000</td><td>7.2</td><td>0.14</td><td>29.0</td><td>0.02</td><td>170000.0</td><td>6.4e-08</td><td>1110.0</td><td>39.2080344138</td><td>173.0</td><td>404.0</td><td>51.32</td><td>343.77</td><td>246.7</td><td>61.55</td><td>9.8</td><td>158.0</td><td>WISE</td></tr>\n",
       "<tr><td>67</td><td>NGC 6611 ESL 45</td><td>G017.0826+00.9744</td><td>O9V</td><td>31500</td><td>7.7</td><td>1.99</td><td>7.5</td><td>0.07</td><td>16000.0</td><td>5.8e-08</td><td>8.4</td><td>7179.15238422</td><td>9.0</td><td>9.0</td><td>0.31</td><td>27.659</td><td>4.41</td><td>-5.4</td><td>38.7</td><td>708.0</td><td>SST</td></tr>\n",
       "<tr><td>329</td><td>KGK 2010 10</td><td>G077.0505-00.6094</td><td>O7V</td><td>35500</td><td>9.3</td><td>1.32</td><td>10.0</td><td>0.06</td><td>46000.0</td><td>5.1e-10</td><td>4400.0</td><td>27.7751916238</td><td>--</td><td>--</td><td>--</td><td>--</td><td>--</td><td>--</td><td>--</td><td>--</td><td>None</td></tr>\n",
       "<tr><td>331</td><td>LS II+39 53</td><td>G078.2869+00.7780</td><td>O7V</td><td>35500</td><td>9.3</td><td>1.32</td><td>25.0</td><td>0.18</td><td>7300.0</td><td>5.3e-09</td><td>430.0</td><td>288.644148248</td><td>33.0</td><td>30.0</td><td>-0.017</td><td>28.45</td><td>12.72</td><td>-4.8</td><td>17.6</td><td>195.0</td><td>SST</td></tr>\n",
       "<tr><td>338</td><td>CPR2002A10</td><td>G078.8223+00.0959</td><td>O9V</td><td>31500</td><td>7.7</td><td>1.32</td><td>23.0</td><td>0.15</td><td>3800.0</td><td>6.9e-09</td><td>160.0</td><td>375.782004322</td><td>24.0</td><td>16.0</td><td>1.179</td><td>32.85</td><td>55.63</td><td>-18.07</td><td>98.4</td><td>110.0</td><td>SST</td></tr>\n",
       "<tr><td>339</td><td>CPR2002A37</td><td>G080.2400+00.1354</td><td>O5V</td><td>41500</td><td>11.1</td><td>1.32</td><td>70.0</td><td>0.45</td><td>2600.0</td><td>6e-09</td><td>1100.0</td><td>326.76696028</td><td>108.0</td><td>66.0</td><td>-0.34</td><td>31.116</td><td>40.7</td><td>-5.5</td><td>31.6</td><td>120.0</td><td>SST</td></tr>\n",
       "<tr><td>341</td><td>KGK2010 1</td><td>G080.8621+00.9749</td><td>B2V</td><td>20900</td><td>5.4</td><td>1.32</td><td>20.0</td><td>0.13</td><td>470.0</td><td>1.9e-09</td><td>43.0</td><td>103.476204089</td><td>30.0</td><td>25.0</td><td>-0.278</td><td>10.669</td><td>11.98</td><td>-5.91</td><td>-99.9</td><td>126.0</td><td>SST</td></tr>\n",
       "<tr><td>342</td><td>KGK2010 2</td><td>G080.9020+00.9828</td><td>B2V</td><td>20900</td><td>5.4</td><td>1.32</td><td>10.0</td><td>0.06</td><td>1900.0</td><td>6e-10</td><td>140.0</td><td>32.676696028</td><td>18.0</td><td>10.0</td><td>0.383</td><td>0.773</td><td>8.99</td><td>5.25</td><td>49.2</td><td>70.0</td><td>SST</td></tr>\n",
       "<tr><td>344</td><td>BD+43 3654</td><td>G082.4100+02.3254</td><td>O4If</td><td>40700</td><td>19.0</td><td>1.32</td><td>193.0</td><td>1.24</td><td>910.0</td><td>5e-08</td><td>350.0</td><td>2723.05800234</td><td>171.0</td><td>108.0</td><td>18.036</td><td>141.124</td><td>482.2</td><td>134.8</td><td>52.7</td><td>98.0</td><td>WISE</td></tr>\n",
       "<tr><td>368</td><td>KM Cas</td><td>G134.3552+00.8182</td><td>O9.5V</td><td>30500</td><td>7.4</td><td>2.0</td><td>14.0</td><td>0.13</td><td>3700.0</td><td>1.4e-10</td><td>2400.0</td><td>17.5035867919</td><td>22.0</td><td>16.0</td><td>0.057</td><td>0.375</td><td>1.39</td><td>-0.22</td><td>17.6</td><td>96.0</td><td>WISE</td></tr>\n",
       "<tr><td>369</td><td>BD+60 586</td><td>G137.4203+01.2792</td><td>O7.5V/O8III</td><td>34400</td><td>8.9</td><td>2.0</td><td>73.0</td><td>0.71</td><td>320.0</td><td>1.4e-09</td><td>640.0</td><td>175.035867919</td><td>67.0</td><td>47.0</td><td>0.199</td><td>2.089</td><td>17.38</td><td>5.25</td><td>7.0</td><td>81.0</td><td>WISE</td></tr>\n",
       "<tr><td>380</td><td>HD 53367</td><td>G223.7092-01.9008</td><td>B0IVe</td><td>30000</td><td>7.4</td><td>0.26</td><td>15.0</td><td>0.02</td><td>180000.0</td><td>3.3e-09</td><td>5400.0</td><td>6.97267882416</td><td>23.0</td><td>42.0</td><td>1.727</td><td>17.743</td><td>9.18</td><td>-0.91</td><td>24.6</td><td>183.0</td><td>WISE</td></tr>\n",
       "<tr><td>381</td><td>HD 54662</td><td>G224.1685-00.7784</td><td>O7V</td><td>35500</td><td>9.4</td><td>0.63</td><td>71.0</td><td>0.22</td><td>4200.0</td><td>4.4e-09</td><td>2300.0</td><td>54.5849354105</td><td>220.0</td><td>214.0</td><td>0.227</td><td>6.796</td><td>56.15</td><td>-53.38</td><td>3.5</td><td>82.0</td><td>WISE</td></tr>\n",
       "<tr><td>382</td><td>FN CMa</td><td>G224.7096-01.7938</td><td>B2Ia</td><td>17600</td><td>30.0</td><td>0.93</td><td>101.0</td><td>0.45</td><td>580.0</td><td>3.2e-09</td><td>980.0</td><td>86.5077269503</td><td>133.0</td><td>44.0</td><td>0.939</td><td>9.524</td><td>29.64</td><td>-11.83</td><td>10.6</td><td>100.0</td><td>WISE</td></tr>\n",
       "<tr><td>406</td><td>HD 92607</td><td>G287.1148-01.0236</td><td>O8V+O9V</td><td>33400</td><td>8.5</td><td>2.3</td><td>16.0</td><td>0.18</td><td>4100.0</td><td>1.9e-09</td><td>300.0</td><td>314.158126509</td><td>25.0</td><td>15.0</td><td>1.828</td><td>8.969</td><td>3.13</td><td>-3.4</td><td>35.2</td><td>230.0</td><td>WISE</td></tr>\n",
       "<tr><td>407</td><td>HD 93249</td><td>G287.4071-00.3593</td><td>O9III</td><td>33400</td><td>13.6</td><td>2.3</td><td>7.8</td><td>0.09</td><td>31000.0</td><td>6.3e-09</td><td>160.0</td><td>1041.68220895</td><td>23.0</td><td>23.0</td><td>0.495</td><td>36.7</td><td>31.1</td><td>-19.5</td><td>38.7</td><td>141.0</td><td>SST</td></tr>\n",
       "<tr><td>409</td><td>HD 93027</td><td>G287.6131-01.1302</td><td>O9.5IV</td><td>30500</td><td>7.4</td><td>2.3</td><td>7.4</td><td>0.08</td><td>9900.0</td><td>7.6e-10</td><td>330.0</td><td>125.663250604</td><td>12.0</td><td>14.0</td><td>0.156</td><td>3.46</td><td>1.22</td><td>-1.48</td><td>7.0</td><td>229.0</td><td>SST</td></tr>\n",
       "<tr><td>410</td><td>HD 305536</td><td>G287.6736-01.0093</td><td>O9.5V+?</td><td>30500</td><td>7.4</td><td>2.3</td><td>3.7</td><td>0.04</td><td>39000.0</td><td>1.1e-09</td><td>220.0</td><td>181.881020611</td><td>4.0</td><td>6.0</td><td>1.623</td><td>4.65</td><td>10.21</td><td>-2.35</td><td>73.8</td><td>102.0</td><td>SST</td></tr>\n",
       "<tr><td>411</td><td>HD 305599</td><td>G288.1505-00.5059</td><td>B0Ib</td><td>25000</td><td>30.0</td><td>2.3</td><td>4.2</td><td>0.05</td><td>230000.0</td><td>4e-10</td><td>5100.0</td><td>66.1385529493</td><td>9.0</td><td>8.0</td><td>0.176</td><td>1.77</td><td>3.46</td><td>-1.16</td><td>31.6</td><td>106.0</td><td>SST</td></tr>\n",
       "<tr><td>413</td><td>HD 93683</td><td>G288.3138-01.3085</td><td>O9V</td><td>31500</td><td>7.7</td><td>2.3</td><td>15.0</td><td>0.17</td><td>2900.0</td><td>1e-09</td><td>360.0</td><td>165.346382373</td><td>25.0</td><td>24.0</td><td>0.319</td><td>4.524</td><td>6.87</td><td>-5.48</td><td>10.6</td><td>122.0</td><td>WISE</td></tr>\n",
       "</table>"
      ],
      "text/plain": [
       "<Table masked=True length=20>\n",
       "  ID       Name1             Name       ...   I70    T2x/70 Observatory\n",
       "                                        ...                            \n",
       "int64      str15            str17       ... float64 float64    object  \n",
       "----- --------------- ----------------- ... ------- ------- -----------\n",
       "   13        zeta Oph G006.2812+23.5877 ...     9.8   158.0        WISE\n",
       "   67 NGC 6611 ESL 45 G017.0826+00.9744 ...    38.7   708.0         SST\n",
       "  329     KGK 2010 10 G077.0505-00.6094 ...      --      --        None\n",
       "  331     LS II+39 53 G078.2869+00.7780 ...    17.6   195.0         SST\n",
       "  338      CPR2002A10 G078.8223+00.0959 ...    98.4   110.0         SST\n",
       "  339      CPR2002A37 G080.2400+00.1354 ...    31.6   120.0         SST\n",
       "  341       KGK2010 1 G080.8621+00.9749 ...   -99.9   126.0         SST\n",
       "  342       KGK2010 2 G080.9020+00.9828 ...    49.2    70.0         SST\n",
       "  344      BD+43 3654 G082.4100+02.3254 ...    52.7    98.0        WISE\n",
       "  368          KM Cas G134.3552+00.8182 ...    17.6    96.0        WISE\n",
       "  369       BD+60 586 G137.4203+01.2792 ...     7.0    81.0        WISE\n",
       "  380        HD 53367 G223.7092-01.9008 ...    24.6   183.0        WISE\n",
       "  381        HD 54662 G224.1685-00.7784 ...     3.5    82.0        WISE\n",
       "  382          FN CMa G224.7096-01.7938 ...    10.6   100.0        WISE\n",
       "  406        HD 92607 G287.1148-01.0236 ...    35.2   230.0        WISE\n",
       "  407        HD 93249 G287.4071-00.3593 ...    38.7   141.0         SST\n",
       "  409        HD 93027 G287.6131-01.1302 ...     7.0   229.0         SST\n",
       "  410       HD 305536 G287.6736-01.0093 ...    73.8   102.0         SST\n",
       "  411       HD 305599 G288.1505-00.5059 ...    31.6   106.0         SST\n",
       "  413        HD 93683 G288.3138-01.3085 ...    10.6   122.0        WISE"
      ]
     },
     "execution_count": 20,
     "metadata": {},
     "output_type": "execute_result"
    }
   ],
   "source": [
    "groups = [\n",
    "    ['Rad_1', 'Rad_2', 'Rad'],\n",
    "    ['Height_1', 'Height_2', 'Height'],\n",
    "    ['F8.0', 'F12', 'F8 or 12'],\n",
    "    ['F24', 'F22', 'F24 or 22'],\n",
    "    ['F70_1', 'F70_2', 'F70'],\n",
    "    ['F160_1', 'F160_2', 'F160'],\n",
    "    ['I70_1', 'I70_2', 'I70'],\n",
    "    ['T24/70', 'T22/70', 'T2x/70'],\n",
    "]\n",
    "\n",
    "for sst, wise, merge in groups:\n",
    "    tab05_01_02[merge] = np.where(m_sst, tab05_01_02[sst], np.where(m_wise, tab05_01_02[wise], np.nan))\n",
    "    tab05_01_02[merge].mask = ~(m_sst | m_wise)\n",
    "    tab05_01_02.remove_columns([sst, wise])\n",
    "tab05_01_02['Observatory'] = np.where(m_sst, 'SST', np.where(m_wise, 'WISE', None))\n",
    "tab05_01_02"
   ]
  },
  {
   "cell_type": "markdown",
   "metadata": {},
   "source": [
    "Now work out my own IR flux by weighted sum of the 8 to 160 bands"
   ]
  },
  {
   "cell_type": "code",
   "execution_count": 26,
   "metadata": {},
   "outputs": [
    {
     "data": {
      "text/html": [
       "&lt;Table masked=True length=18&gt;\n",
       "<table id=\"table4844229800\" class=\"table-striped table-bordered table-condensed\">\n",
       "<thead><tr><th>ID</th><th>FIR</th><th>FIR_will</th></tr></thead>\n",
       "<thead><tr><th></th><th>mW / m2</th><th></th></tr></thead>\n",
       "<thead><tr><th>int64</th><th>float64</th><th>float64</th></tr></thead>\n",
       "<tr><td>13</td><td>6.4e-08</td><td>7.99017e-08</td></tr>\n",
       "<tr><td>67</td><td>5.8e-08</td><td>4.72475e-09</td></tr>\n",
       "<tr><td>338</td><td>6.9e-09</td><td>8.37609e-09</td></tr>\n",
       "<tr><td>339</td><td>6e-09</td><td>7.13586e-09</td></tr>\n",
       "<tr><td>341</td><td>1.9e-09</td><td>2.38474e-09</td></tr>\n",
       "<tr><td>342</td><td>6e-10</td><td>6.7409e-10</td></tr>\n",
       "<tr><td>344</td><td>5e-08</td><td>5.150068e-08</td></tr>\n",
       "<tr><td>368</td><td>1.4e-10</td><td>1.4457e-10</td></tr>\n",
       "<tr><td>369</td><td>1.4e-09</td><td>1.26838e-09</td></tr>\n",
       "<tr><td>380</td><td>3.3e-09</td><td>3.72154e-09</td></tr>\n",
       "<tr><td>381</td><td>4.4e-09</td><td>4.00549e-09</td></tr>\n",
       "<tr><td>382</td><td>3.2e-09</td><td>3.26084e-09</td></tr>\n",
       "<tr><td>406</td><td>1.9e-09</td><td>2.03339e-09</td></tr>\n",
       "<tr><td>407</td><td>6.3e-09</td><td>7.5769e-09</td></tr>\n",
       "<tr><td>409</td><td>7.6e-10</td><td>6.5326e-10</td></tr>\n",
       "<tr><td>410</td><td>1.1e-09</td><td>1.65423e-09</td></tr>\n",
       "<tr><td>411</td><td>4e-10</td><td>5.019e-10</td></tr>\n",
       "<tr><td>413</td><td>1e-09</td><td>1.15077e-09</td></tr>\n",
       "</table>"
      ],
      "text/plain": [
       "<Table masked=True length=18>\n",
       "  ID    FIR     FIR_will  \n",
       "      mW / m2             \n",
       "int64 float64   float64   \n",
       "----- ------- ------------\n",
       "   13 6.4e-08  7.99017e-08\n",
       "   67 5.8e-08  4.72475e-09\n",
       "  338 6.9e-09  8.37609e-09\n",
       "  339   6e-09  7.13586e-09\n",
       "  341 1.9e-09  2.38474e-09\n",
       "  342   6e-10   6.7409e-10\n",
       "  344   5e-08 5.150068e-08\n",
       "  368 1.4e-10   1.4457e-10\n",
       "  369 1.4e-09  1.26838e-09\n",
       "  380 3.3e-09  3.72154e-09\n",
       "  381 4.4e-09  4.00549e-09\n",
       "  382 3.2e-09  3.26084e-09\n",
       "  406 1.9e-09  2.03339e-09\n",
       "  407 6.3e-09   7.5769e-09\n",
       "  409 7.6e-10   6.5326e-10\n",
       "  410 1.1e-09  1.65423e-09\n",
       "  411   4e-10    5.019e-10\n",
       "  413   1e-09  1.15077e-09"
      ]
     },
     "execution_count": 26,
     "metadata": {},
     "output_type": "execute_result"
    }
   ],
   "source": [
    "t = tab05_01_02\n",
    "t.remove_row(2)\n",
    "t['FIR_will'] = 1e-10*(2.4*np.abs(t['F8 or 12']) + 1.6*t['F24 or 22'] + 0.51*t['F70'])\n",
    "t['ID', 'FIR', 'FIR_will']"
   ]
  },
  {
   "cell_type": "code",
   "execution_count": 22,
   "metadata": {},
   "outputs": [],
   "source": [
    "import matplotlib.pyplot as plt\n",
    "import seaborn as sns\n",
    "%matplotlib inline\n",
    "sns.set_context(\"poster\")"
   ]
  },
  {
   "cell_type": "code",
   "execution_count": 27,
   "metadata": {},
   "outputs": [
    {
     "data": {
      "image/png": "[encoded data removed]",
      "text/plain": [
       "<Figure size 720x576 with 2 Axes>"
      ]
     },
     "metadata": {},
     "output_type": "display_data"
    }
   ],
   "source": [
    "fig, ax = plt.subplots(figsize=(10, 8))\n",
    "c = ax.scatter(t['FIR'], t['FIR_will'], \n",
    "               c=t['Dist'], cmap='magma_r', \n",
    "               edgecolors='k', alpha=1.0)\n",
    "fig.colorbar(c, ax=ax).set_label('Distance, kpc')\n",
    "for id_, x, y in zip(t['ID'], t['FIR'], t['FIR_will']):\n",
    "    ax.annotate(\n",
    "        str(id_), (x, y), fontsize='xx-small',\n",
    "        xytext=(4,4), textcoords='offset points',\n",
    "               )\n",
    "fmin, fmax = 2e-10, 2e-7\n",
    "ax.plot([fmin, fmax], [fmin, fmax], ls='--')\n",
    "ax.set(\n",
    "    xscale='log', yscale='log', \n",
    "    xlim=[fmin, fmax], ylim=[fmin, fmax],\n",
    "    xlabel=r'Kobulnicky: $F_\\mathrm{IR}$',\n",
    "    ylabel=r'Will: $F_\\mathrm{IR}$',\n",
    ")\n",
    "ax.set_aspect('equal')\n",
    "None"
   ]
  },
  {
   "cell_type": "markdown",
   "metadata": {},
   "source": [
    "So everything looks OK, except:\n",
    "\n",
    "* Source 67 is over 10 times too bright in the Kobulnicky table\n",
    "\n",
    "So, I will use my fluxes instead.  "
   ]
  },
  {
   "cell_type": "markdown",
   "metadata": {},
   "source": [
    "Now add in the table that I transcribed from the 2018 paper:"
   ]
  },
  {
   "cell_type": "code",
   "execution_count": 24,
   "metadata": {},
   "outputs": [],
   "source": [
    "tab18 = Table.read('kob18.fits')"
   ]
  },
  {
   "cell_type": "code",
   "execution_count": 29,
   "metadata": {},
   "outputs": [
    {
     "data": {
      "text/html": [
       "&lt;Table masked=True length=18&gt;\n",
       "<table id=\"table4885181160\" class=\"table-striped table-bordered table-condensed\">\n",
       "<thead><tr><th>ID</th><th>Name1</th><th>Name</th><th>SpType</th><th>Teff</th><th>R*</th><th>Dist</th><th>Dist1</th><th>Dist2</th><th>U</th><th>FIR</th><th>L*/LIR_1</th><th>LIR</th><th>Rad</th><th>Height</th><th>F8 or 12</th><th>F24 or 22</th><th>F70</th><th>F160</th><th>I70</th><th>T2x/70</th><th>Observatory</th><th>FIR_will</th><th>L4</th><th>V3</th><th>R0</th><th>S7</th><th>R0_as</th><th>l_as</th><th>l/R0</th><th>j_-12</th><th>D_kpc</th><th>FIR_-9</th><th>L*/LIR_2</th><th>LIR_will</th><th>LIR/L* will</th></tr></thead>\n",
       "<thead><tr><th></th><th></th><th></th><th></th><th>K</th><th>solRad</th><th>kpc</th><th>arcsec</th><th>pc</th><th></th><th>mW / m2</th><th></th><th></th><th></th><th></th><th></th><th></th><th></th><th></th><th></th><th></th><th></th><th></th><th></th><th></th><th></th><th></th><th></th><th></th><th></th><th></th><th></th><th></th><th></th><th></th><th></th></tr></thead>\n",
       "<thead><tr><th>int64</th><th>str15</th><th>str17</th><th>str11</th><th>int64</th><th>float64</th><th>float64</th><th>float64</th><th>float64</th><th>float64</th><th>float64</th><th>float64</th><th>float64</th><th>float64</th><th>float64</th><th>float64</th><th>float64</th><th>float64</th><th>float64</th><th>float64</th><th>float64</th><th>object</th><th>float64</th><th>float64</th><th>float64</th><th>float64</th><th>float64</th><th>float64</th><th>int64</th><th>float64</th><th>float64</th><th>float64</th><th>float64</th><th>float64</th><th>float64</th><th>float64</th></tr></thead>\n",
       "<tr><td>13</td><td>zeta Oph</td><td>G006.2812+23.5877</td><td>O9.2IV</td><td>31000</td><td>7.2</td><td>0.14</td><td>29.0</td><td>0.02</td><td>170000.0</td><td>6.4e-08</td><td>1110.0</td><td>39.2080344138</td><td>173.0</td><td>404.0</td><td>51.32</td><td>343.77</td><td>246.7</td><td>61.55</td><td>9.8</td><td>158.0</td><td>WISE</td><td>7.99017e-08</td><td>8.1</td><td>1.3</td><td>0.175</td><td>12.3</td><td>299.0</td><td>277</td><td>0.93</td><td>8.7</td><td>0.11</td><td>64.0</td><td>3339.43</td><td>48.9498219269</td><td>0.000604318789221</td></tr>\n",
       "<tr><td>67</td><td>NGC 6611 ESL 45</td><td>G017.0826+00.9744</td><td>O9V</td><td>31500</td><td>7.7</td><td>1.99</td><td>7.5</td><td>0.07</td><td>16000.0</td><td>5.8e-08</td><td>8.4</td><td>7179.15238422</td><td>9.0</td><td>9.0</td><td>0.31</td><td>27.659</td><td>4.41</td><td>-5.4</td><td>38.7</td><td>708.0</td><td>SST</td><td>4.72475e-09</td><td>5.1</td><td>1.3</td><td>0.08</td><td>64.0</td><td>7.5</td><td>15</td><td>2.0</td><td>11.0</td><td>1.99</td><td>58.0</td><td>7.09</td><td>584.822417713</td><td>0.0114671062297</td></tr>\n",
       "<tr><td>338</td><td>CPR2002A10</td><td>G078.8223+00.0959</td><td>O9V</td><td>31500</td><td>7.7</td><td>1.32</td><td>23.0</td><td>0.15</td><td>3800.0</td><td>6.9e-09</td><td>160.0</td><td>375.782004322</td><td>24.0</td><td>16.0</td><td>1.179</td><td>32.85</td><td>55.63</td><td>-18.07</td><td>98.4</td><td>110.0</td><td>SST</td><td>8.37609e-09</td><td>7.9</td><td>1.2</td><td>0.162</td><td>79.8</td><td>23.0</td><td>29</td><td>1.26</td><td>8.9</td><td>1.32</td><td>6.9</td><td>209.79</td><td>456.171578056</td><td>0.00577432377286</td></tr>\n",
       "<tr><td>339</td><td>CPR2002A37</td><td>G080.2400+00.1354</td><td>O5V</td><td>41500</td><td>11.1</td><td>1.32</td><td>70.0</td><td>0.45</td><td>2600.0</td><td>6e-09</td><td>1100.0</td><td>326.76696028</td><td>108.0</td><td>66.0</td><td>-0.34</td><td>31.116</td><td>40.7</td><td>-5.5</td><td>31.6</td><td>120.0</td><td>SST</td><td>7.13586e-09</td><td>32.0</td><td>2.9</td><td>0.493</td><td>29.9</td><td>70.0</td><td>47</td><td>0.67</td><td>8.3</td><td>1.32</td><td>6.0</td><td>977.24</td><td>388.627213531</td><td>0.00121446004228</td></tr>\n",
       "<tr><td>341</td><td>KGK2010 1</td><td>G080.8621+00.9749</td><td>B2V</td><td>20900</td><td>5.4</td><td>1.32</td><td>20.0</td><td>0.13</td><td>470.0</td><td>1.9e-09</td><td>43.0</td><td>103.476204089</td><td>30.0</td><td>25.0</td><td>-0.278</td><td>10.669</td><td>11.98</td><td>-5.91</td><td>-99.9</td><td>126.0</td><td>SST</td><td>2.38474e-09</td><td>5.1</td><td>1.3</td><td>0.141</td><td>5.0</td><td>20.0</td><td>31</td><td>1.55</td><td>8.7</td><td>1.32</td><td>1.9</td><td>491.84</td><td>129.87570681</td><td>0.00254658248647</td></tr>\n",
       "<tr><td>342</td><td>KGK2010 2</td><td>G080.9020+00.9828</td><td>B2V</td><td>20900</td><td>5.4</td><td>1.32</td><td>10.0</td><td>0.06</td><td>1900.0</td><td>6e-10</td><td>140.0</td><td>32.676696028</td><td>18.0</td><td>10.0</td><td>0.383</td><td>0.773</td><td>8.99</td><td>5.25</td><td>49.2</td><td>70.0</td><td>SST</td><td>6.7409e-10</td><td>1.4</td><td>0.8</td><td>0.07</td><td>57.8</td><td>10.0</td><td>14</td><td>1.4</td><td>8.9</td><td>1.32</td><td>0.6</td><td>427.54</td><td>36.7117233759</td><td>0.00262226595542</td></tr>\n",
       "<tr><td>344</td><td>BD+43 3654</td><td>G082.4100+02.3254</td><td>O4If</td><td>40700</td><td>19.0</td><td>1.32</td><td>193.0</td><td>1.24</td><td>910.0</td><td>5e-08</td><td>350.0</td><td>2723.05800234</td><td>171.0</td><td>108.0</td><td>18.036</td><td>141.124</td><td>482.2</td><td>134.8</td><td>52.7</td><td>98.0</td><td>WISE</td><td>5.150068e-08</td><td>87.0</td><td>3.0</td><td>1.359</td><td>58.6</td><td>193.0</td><td>170</td><td>0.88</td><td>8.0</td><td>1.32</td><td>50.0</td><td>318.83</td><td>2804.786776</td><td>0.00322389284597</td></tr>\n",
       "<tr><td>368</td><td>KM Cas</td><td>G134.3552+00.8182</td><td>O9.5V</td><td>30500</td><td>7.4</td><td>2.0</td><td>14.0</td><td>0.13</td><td>3700.0</td><td>1.4e-10</td><td>2400.0</td><td>17.5035867919</td><td>22.0</td><td>16.0</td><td>0.057</td><td>0.375</td><td>1.39</td><td>-0.22</td><td>17.6</td><td>96.0</td><td>WISE</td><td>1.4457e-10</td><td>4.1</td><td>1.2</td><td>0.146</td><td>24.9</td><td>14.0</td><td>22</td><td>1.57</td><td>8.5</td><td>1.95</td><td>0.14</td><td>2458.89</td><td>18.074953875</td><td>0.000440852533537</td></tr>\n",
       "<tr><td>369</td><td>BD+60 586</td><td>G137.4203+01.2792</td><td>O7.5V/O8III</td><td>34400</td><td>8.9</td><td>2.0</td><td>73.0</td><td>0.71</td><td>320.0</td><td>1.4e-09</td><td>640.0</td><td>175.035867919</td><td>67.0</td><td>47.0</td><td>0.199</td><td>2.089</td><td>17.38</td><td>5.25</td><td>7.0</td><td>81.0</td><td>WISE</td><td>1.26838e-09</td><td>9.7</td><td>2.5</td><td>0.759</td><td>7.9</td><td>73.0</td><td>39</td><td>0.53</td><td>7.8</td><td>1.95</td><td>1.4</td><td>581.74</td><td>158.579995822</td><td>0.00163484531775</td></tr>\n",
       "<tr><td>380</td><td>HD 53367</td><td>G223.7092-01.9008</td><td>B0IVe</td><td>30000</td><td>7.4</td><td>0.26</td><td>15.0</td><td>0.02</td><td>180000.0</td><td>3.3e-09</td><td>5400.0</td><td>6.97267882416</td><td>23.0</td><td>42.0</td><td>1.727</td><td>17.743</td><td>9.18</td><td>-0.91</td><td>24.6</td><td>183.0</td><td>WISE</td><td>3.72154e-09</td><td>2.6</td><td>1.2</td><td>0.021</td><td>35.7</td><td>15.0</td><td>49</td><td>3.27</td><td>30.0</td><td>0.26</td><td>3.3</td><td>3721.05</td><td>7.8633645913</td><td>0.000302437099665</td></tr>\n",
       "<tr><td>381</td><td>HD 54662</td><td>G224.1685-00.7784</td><td>O7V</td><td>35500</td><td>9.4</td><td>0.63</td><td>71.0</td><td>0.22</td><td>4200.0</td><td>4.4e-09</td><td>2300.0</td><td>54.5849354105</td><td>220.0</td><td>214.0</td><td>0.227</td><td>6.796</td><td>56.15</td><td>-53.38</td><td>3.5</td><td>82.0</td><td>WISE</td><td>4.00549e-09</td><td>12.0</td><td>2.5</td><td>0.739</td><td>4.6</td><td>220.0</td><td>200</td><td>0.91</td><td>7.9</td><td>0.63</td><td>4.4</td><td>2193.81</td><td>49.6907756676</td><td>0.00041408979723</td></tr>\n",
       "<tr><td>382</td><td>FN CMa</td><td>G224.7096-01.7938</td><td>B2Ia</td><td>17600</td><td>30.0</td><td>0.93</td><td>101.0</td><td>0.45</td><td>580.0</td><td>3.2e-09</td><td>980.0</td><td>86.5077269503</td><td>133.0</td><td>44.0</td><td>0.939</td><td>9.524</td><td>29.64</td><td>-11.83</td><td>10.6</td><td>100.0</td><td>WISE</td><td>3.26084e-09</td><td>12.0</td><td>1.2</td><td>0.506</td><td>11.2</td><td>101.0</td><td>70</td><td>0.69</td><td>8.0</td><td>0.94</td><td>3.2</td><td>1354.96</td><td>88.1524551089</td><td>0.000734603792574</td></tr>\n",
       "<tr><td>406</td><td>HD 92607</td><td>G287.1148-01.0236</td><td>O8V+O9V</td><td>33400</td><td>8.5</td><td>2.3</td><td>16.0</td><td>0.18</td><td>4100.0</td><td>1.9e-09</td><td>300.0</td><td>314.158126509</td><td>25.0</td><td>15.0</td><td>1.828</td><td>8.969</td><td>3.13</td><td>-3.4</td><td>35.2</td><td>230.0</td><td>WISE</td><td>2.03339e-09</td><td>8.2</td><td>1.3</td><td>0.201</td><td>29.1</td><td>16.0</td><td>26</td><td>1.63</td><td>8.5</td><td>2.35</td><td>1.9</td><td>249.5</td><td>336.213680454</td><td>0.0041001668348</td></tr>\n",
       "<tr><td>407</td><td>HD 93249</td><td>G287.4071-00.3593</td><td>O9III</td><td>33400</td><td>13.6</td><td>2.3</td><td>7.8</td><td>0.09</td><td>31000.0</td><td>6.3e-09</td><td>160.0</td><td>1041.68220895</td><td>23.0</td><td>23.0</td><td>0.495</td><td>36.7</td><td>31.1</td><td>-19.5</td><td>38.7</td><td>141.0</td><td>SST</td><td>7.5769e-09</td><td>14.0</td><td>1.3</td><td>0.098</td><td>58.2</td><td>7.8</td><td>25</td><td>3.21</td><td>13.0</td><td>2.35</td><td>6.3</td><td>128.47</td><td>1252.8130046</td><td>0.0089486643186</td></tr>\n",
       "<tr><td>409</td><td>HD 93027</td><td>G287.6131-01.1302</td><td>O9.5IV</td><td>30500</td><td>7.4</td><td>2.3</td><td>7.4</td><td>0.08</td><td>9900.0</td><td>7.6e-10</td><td>330.0</td><td>125.663250604</td><td>12.0</td><td>14.0</td><td>0.156</td><td>3.46</td><td>1.22</td><td>-1.48</td><td>7.0</td><td>229.0</td><td>SST</td><td>6.5326e-10</td><td>7.4</td><td>1.2</td><td>0.093</td><td>20.8</td><td>7.4</td><td>17</td><td>2.3</td><td>11.0</td><td>2.35</td><td>0.76</td><td>562.9</td><td>108.014177749</td><td>0.00145965105066</td></tr>\n",
       "<tr><td>410</td><td>HD 305536</td><td>G287.6736-01.0093</td><td>O9.5V+?</td><td>30500</td><td>7.4</td><td>2.3</td><td>3.7</td><td>0.04</td><td>39000.0</td><td>1.1e-09</td><td>220.0</td><td>181.881020611</td><td>4.0</td><td>6.0</td><td>1.623</td><td>4.65</td><td>10.21</td><td>-2.35</td><td>73.8</td><td>102.0</td><td>SST</td><td>1.65423e-09</td><td>4.1</td><td>1.2</td><td>0.046</td><td>91.4</td><td>3.7</td><td>14</td><td>3.78</td><td>15.0</td><td>2.35</td><td>1.1</td><td>215.48</td><td>273.520946113</td><td>0.00667124258813</td></tr>\n",
       "<tr><td>411</td><td>HD 305599</td><td>G288.1505-00.5059</td><td>B0Ib</td><td>25000</td><td>30.0</td><td>2.3</td><td>4.2</td><td>0.05</td><td>230000.0</td><td>4e-10</td><td>5100.0</td><td>66.1385529493</td><td>9.0</td><td>8.0</td><td>0.176</td><td>1.77</td><td>3.46</td><td>-1.16</td><td>31.6</td><td>106.0</td><td>SST</td><td>5.019e-10</td><td>4.1</td><td>1.2</td><td>0.052</td><td>41.5</td><td>4.2</td><td>16</td><td>3.81</td><td>13.0</td><td>2.35</td><td>0.4</td><td>592.57</td><td>82.9873493131</td><td>0.00202408169056</td></tr>\n",
       "<tr><td>413</td><td>HD 93683</td><td>G288.3138-01.3085</td><td>O9V</td><td>31500</td><td>7.7</td><td>2.3</td><td>15.0</td><td>0.17</td><td>2900.0</td><td>1e-09</td><td>360.0</td><td>165.346382373</td><td>25.0</td><td>24.0</td><td>0.319</td><td>4.524</td><td>6.87</td><td>-5.48</td><td>10.6</td><td>122.0</td><td>WISE</td><td>1.15077e-09</td><td>5.1</td><td>1.3</td><td>0.188</td><td>15.4</td><td>15.0</td><td>24</td><td>1.6</td><td>8.3</td><td>2.35</td><td>1.0</td><td>294.84</td><td>190.275656444</td><td>0.00373089522439</td></tr>\n",
       "</table>"
      ],
      "text/plain": [
       "<Table masked=True length=18>\n",
       "  ID       Name1             Name       ...    LIR_will      LIR/L* will   \n",
       "                                        ...                                \n",
       "int64      str15            str17       ...    float64         float64     \n",
       "----- --------------- ----------------- ... ------------- -----------------\n",
       "   13        zeta Oph G006.2812+23.5877 ... 48.9498219269 0.000604318789221\n",
       "   67 NGC 6611 ESL 45 G017.0826+00.9744 ... 584.822417713   0.0114671062297\n",
       "  338      CPR2002A10 G078.8223+00.0959 ... 456.171578056  0.00577432377286\n",
       "  339      CPR2002A37 G080.2400+00.1354 ... 388.627213531  0.00121446004228\n",
       "  341       KGK2010 1 G080.8621+00.9749 ...  129.87570681  0.00254658248647\n",
       "  342       KGK2010 2 G080.9020+00.9828 ... 36.7117233759  0.00262226595542\n",
       "  344      BD+43 3654 G082.4100+02.3254 ...   2804.786776  0.00322389284597\n",
       "  368          KM Cas G134.3552+00.8182 ...  18.074953875 0.000440852533537\n",
       "  369       BD+60 586 G137.4203+01.2792 ... 158.579995822  0.00163484531775\n",
       "  380        HD 53367 G223.7092-01.9008 ...  7.8633645913 0.000302437099665\n",
       "  381        HD 54662 G224.1685-00.7784 ... 49.6907756676  0.00041408979723\n",
       "  382          FN CMa G224.7096-01.7938 ... 88.1524551089 0.000734603792574\n",
       "  406        HD 92607 G287.1148-01.0236 ... 336.213680454   0.0041001668348\n",
       "  407        HD 93249 G287.4071-00.3593 ...  1252.8130046   0.0089486643186\n",
       "  409        HD 93027 G287.6131-01.1302 ... 108.014177749  0.00145965105066\n",
       "  410       HD 305536 G287.6736-01.0093 ... 273.520946113  0.00667124258813\n",
       "  411       HD 305599 G288.1505-00.5059 ... 82.9873493131  0.00202408169056\n",
       "  413        HD 93683 G288.3138-01.3085 ... 190.275656444  0.00373089522439"
      ]
     },
     "execution_count": 29,
     "metadata": {},
     "output_type": "execute_result"
    }
   ],
   "source": [
    "tt = join(t, tab18, keys='ID')\n",
    "tt['LIR_will'] = tt['FIR_will']*(u.erg/u.cm**2/u.s)*4*np.pi*(tt['Dist']*1e3*u.parsec).to(u.cm)**2 / const.L_sun.to(u.erg/u.s)\n",
    "tt['LIR/L* will'] = tt['LIR_will']/(1e4*tt['L4'])\n",
    "tt"
   ]
  },
  {
   "cell_type": "code",
   "execution_count": 38,
   "metadata": {},
   "outputs": [
    {
     "data": {
      "image/png": "[encoded data removed]",
      "text/plain": [
       "<Figure size 720x576 with 2 Axes>"
      ]
     },
     "metadata": {},
     "output_type": "display_data"
    }
   ],
   "source": [
    "fig, ax = plt.subplots(figsize=(10, 8))\n",
    "xx, yy = 2.0/tt['L*/LIR_1'], 2*tt['LIR/L* will']\n",
    "c = ax.scatter(xx, yy, \n",
    "               c=4.0 + np.log10(tt['L4']), cmap='viridis_r', \n",
    "               edgecolors='k', alpha=1.0)\n",
    "fig.colorbar(c, ax=ax).set_label(r'$\\log_{10}\\ \\left[L_* / L_\\odot \\right]$')\n",
    "for id_, x, y in zip(tt['ID'], xx, yy):\n",
    "    ax.annotate(\n",
    "        str(id_), (x, y), fontsize='xx-small',\n",
    "        xytext=(4,4), textcoords='offset points',\n",
    "               )\n",
    "fmin, fmax = 2e-4, 5e-1\n",
    "ax.plot([fmin, fmax], [fmin, fmax], ls='--')\n",
    "ax.set(\n",
    "    xscale='log', yscale='log', \n",
    "    xlim=[fmin, fmax], ylim=[fmin, fmax],\n",
    "    xlabel=r'Kobulnicky+ (2017): $\\tau = 2 L_\\mathrm{IR}/L_*$',\n",
    "    ylabel=r'This paper: $\\tau = 2 L_\\mathrm{IR}/L_*$',\n",
    ")\n",
    "ax.set_aspect('equal')\n",
    "None"
   ]
  },
  {
   "cell_type": "markdown",
   "metadata": {},
   "source": [
    "In this graph we compare the original luminosity ratio taken directly from the Kobulnicky (2017) table (x axis) with the ratio calculated using my new total IR fluxes, combined with the new luminosities in the Kobulnicky (2018) table (y axis).   Most of the points show reasonable agreement between the two methods, with a few exceptions:\n",
    "\n",
    "* 67: this had the $F_\\text{IR}$ overestimated in K17.  Using a more reasonable value gives a lower $\\tau$\n",
    "* 341: The spectral class has changed from B2 (K17) to O9 (K18), increasing the assumed $L_*$, which lowers $\\tau$\n",
    "* 411: The luminosity class has changed from Ib (K17) to V (K18), so $L_*$ has been greatly reduced, which increases the estimated $\\tau$\n",
    "\n",
    "And there doesn't seem to be any significant correlation with stellar luminosity."
   ]
  },
  {
   "cell_type": "markdown",
   "metadata": {},
   "source": [
    "Next job is to estimate the shell pressure from the $\\tau$:\n",
    "\n",
    "1. Assume UV dust opacity per gas mass gives column density: $\\Sigma = \\tau/\\kappa$.\n",
    "2. Using measured thickness, find $\\rho = \\Sigma / H$\n",
    "3. Assume sound speed, so $P_\\mathrm{shell} = \\rho a^2$\n",
    "\n",
    "Putting it all together gives $P_\\mathrm{shell} = \\tau a^2 / \\kappa H$."
   ]
  },
  {
   "cell_type": "markdown",
   "metadata": {},
   "source": [
    "Then we can compare that with the radiation pressure at the shell:\n",
    "$$\n",
    "P_\\mathrm{rad} = \\frac{L_*}{4\\pi R^2 c}\n",
    "$$\n",
    "and define an observational momentum trapping efficiency: $\\eta_\\mathrm{obs} = P_\\mathrm{shell} / P_\\mathrm{rad}$, so that:\n",
    "$$\n",
    "\\eta_\\mathrm{obs} = \\frac{\\tau a^2}{\\kappa H} \\frac{4\\pi R^2 c}{L_*}\n",
    "$$\n",
    "If we expand out the $\\tau$, we se that $\\eta_\\mathrm{obs} \\propto L_*^{-2}$, which is quite a steep sensitivity (especially since $L_*$ may be just a guess). "
   ]
  },
  {
   "cell_type": "markdown",
   "metadata": {},
   "source": [
    "Make a new table that just has the columns that we want.  We take the $R_0$ from K18 Table 1.  The thickness $H$ could be taken from K17: \"Height\" in Tables 1 and 2. *But* I don't trust those values.  For instance, zeta Oph clearly has $H < 60''$ from its image, but the table gives $404''$, which is ridiculous given that $R_0 = 299''$. In fact, when I use these columns and calculate $H/R$, then I get a range from 0.5 to 3, which does not make any sense."
   ]
  },
  {
   "cell_type": "markdown",
   "metadata": {},
   "source": [
    "It would be better to simply assume $H/R = 3 / (4 M^2)$, which is $\\approx 0.1$ if $V = 30$ km/s, but more likely the velocities are lower.  Let's assume 0.25 for now."
   ]
  },
  {
   "cell_type": "code",
   "execution_count": 44,
   "metadata": {},
   "outputs": [
    {
     "data": {
      "text/html": [
       "&lt;Table masked=True length=18&gt;\n",
       "<table id=\"table4902540736\" class=\"table-striped table-bordered table-condensed\">\n",
       "<thead><tr><th>ID</th><th>Name1</th><th>Name</th><th>SpType</th><th>Teff</th><th>L4</th><th>R0</th><th>tau</th><th>H/R</th></tr></thead>\n",
       "<thead><tr><th></th><th></th><th></th><th></th><th>K</th><th></th><th></th><th></th><th></th></tr></thead>\n",
       "<thead><tr><th>int64</th><th>str15</th><th>str17</th><th>str11</th><th>int64</th><th>float64</th><th>float64</th><th>float64</th><th>float64</th></tr></thead>\n",
       "<tr><td>13</td><td>zeta Oph</td><td>G006.2812+23.5877</td><td>O9.2IV</td><td>31000</td><td>8.1</td><td>0.175</td><td>0.00121</td><td>1.35</td></tr>\n",
       "<tr><td>67</td><td>NGC 6611 ESL 45</td><td>G017.0826+00.9744</td><td>O9V</td><td>31500</td><td>5.1</td><td>0.08</td><td>0.02293</td><td>1.2</td></tr>\n",
       "<tr><td>338</td><td>CPR2002A10</td><td>G078.8223+00.0959</td><td>O9V</td><td>31500</td><td>7.9</td><td>0.162</td><td>0.01155</td><td>0.7</td></tr>\n",
       "<tr><td>339</td><td>CPR2002A37</td><td>G080.2400+00.1354</td><td>O5V</td><td>41500</td><td>32.0</td><td>0.493</td><td>0.00243</td><td>0.94</td></tr>\n",
       "<tr><td>341</td><td>KGK2010 1</td><td>G080.8621+00.9749</td><td>B2V</td><td>20900</td><td>5.1</td><td>0.141</td><td>0.00509</td><td>1.25</td></tr>\n",
       "<tr><td>342</td><td>KGK2010 2</td><td>G080.9020+00.9828</td><td>B2V</td><td>20900</td><td>1.4</td><td>0.07</td><td>0.00524</td><td>1.0</td></tr>\n",
       "<tr><td>344</td><td>BD+43 3654</td><td>G082.4100+02.3254</td><td>O4If</td><td>40700</td><td>87.0</td><td>1.359</td><td>0.00645</td><td>0.56</td></tr>\n",
       "<tr><td>368</td><td>KM Cas</td><td>G134.3552+00.8182</td><td>O9.5V</td><td>30500</td><td>4.1</td><td>0.146</td><td>0.00088</td><td>1.14</td></tr>\n",
       "<tr><td>369</td><td>BD+60 586</td><td>G137.4203+01.2792</td><td>O7.5V/O8III</td><td>34400</td><td>9.7</td><td>0.759</td><td>0.00327</td><td>0.64</td></tr>\n",
       "<tr><td>380</td><td>HD 53367</td><td>G223.7092-01.9008</td><td>B0IVe</td><td>30000</td><td>2.6</td><td>0.021</td><td>0.0006</td><td>2.8</td></tr>\n",
       "<tr><td>381</td><td>HD 54662</td><td>G224.1685-00.7784</td><td>O7V</td><td>35500</td><td>12.0</td><td>0.739</td><td>0.00083</td><td>0.97</td></tr>\n",
       "<tr><td>382</td><td>FN CMa</td><td>G224.7096-01.7938</td><td>B2Ia</td><td>17600</td><td>12.0</td><td>0.506</td><td>0.00147</td><td>0.44</td></tr>\n",
       "<tr><td>406</td><td>HD 92607</td><td>G287.1148-01.0236</td><td>O8V+O9V</td><td>33400</td><td>8.2</td><td>0.201</td><td>0.0082</td><td>0.94</td></tr>\n",
       "<tr><td>407</td><td>HD 93249</td><td>G287.4071-00.3593</td><td>O9III</td><td>33400</td><td>14.0</td><td>0.098</td><td>0.0179</td><td>2.95</td></tr>\n",
       "<tr><td>409</td><td>HD 93027</td><td>G287.6131-01.1302</td><td>O9.5IV</td><td>30500</td><td>7.4</td><td>0.093</td><td>0.00292</td><td>1.89</td></tr>\n",
       "<tr><td>410</td><td>HD 305536</td><td>G287.6736-01.0093</td><td>O9.5V+?</td><td>30500</td><td>4.1</td><td>0.046</td><td>0.01334</td><td>1.62</td></tr>\n",
       "<tr><td>411</td><td>HD 305599</td><td>G288.1505-00.5059</td><td>B0Ib</td><td>25000</td><td>4.1</td><td>0.052</td><td>0.00405</td><td>1.9</td></tr>\n",
       "<tr><td>413</td><td>HD 93683</td><td>G288.3138-01.3085</td><td>O9V</td><td>31500</td><td>5.1</td><td>0.188</td><td>0.00746</td><td>1.6</td></tr>\n",
       "</table>"
      ],
      "text/plain": [
       "<Table masked=True length=18>\n",
       "  ID       Name1             Name          SpType   ...    R0     tau     H/R  \n",
       "                                                    ...                        \n",
       "int64      str15            str17          str11    ... float64 float64 float64\n",
       "----- --------------- ----------------- ----------- ... ------- ------- -------\n",
       "   13        zeta Oph G006.2812+23.5877      O9.2IV ...   0.175 0.00121    1.35\n",
       "   67 NGC 6611 ESL 45 G017.0826+00.9744         O9V ...    0.08 0.02293     1.2\n",
       "  338      CPR2002A10 G078.8223+00.0959         O9V ...   0.162 0.01155     0.7\n",
       "  339      CPR2002A37 G080.2400+00.1354         O5V ...   0.493 0.00243    0.94\n",
       "  341       KGK2010 1 G080.8621+00.9749         B2V ...   0.141 0.00509    1.25\n",
       "  342       KGK2010 2 G080.9020+00.9828         B2V ...    0.07 0.00524     1.0\n",
       "  344      BD+43 3654 G082.4100+02.3254        O4If ...   1.359 0.00645    0.56\n",
       "  368          KM Cas G134.3552+00.8182       O9.5V ...   0.146 0.00088    1.14\n",
       "  369       BD+60 586 G137.4203+01.2792 O7.5V/O8III ...   0.759 0.00327    0.64\n",
       "  380        HD 53367 G223.7092-01.9008       B0IVe ...   0.021  0.0006     2.8\n",
       "  381        HD 54662 G224.1685-00.7784         O7V ...   0.739 0.00083    0.97\n",
       "  382          FN CMa G224.7096-01.7938        B2Ia ...   0.506 0.00147    0.44\n",
       "  406        HD 92607 G287.1148-01.0236     O8V+O9V ...   0.201  0.0082    0.94\n",
       "  407        HD 93249 G287.4071-00.3593       O9III ...   0.098  0.0179    2.95\n",
       "  409        HD 93027 G287.6131-01.1302      O9.5IV ...   0.093 0.00292    1.89\n",
       "  410       HD 305536 G287.6736-01.0093     O9.5V+? ...   0.046 0.01334    1.62\n",
       "  411       HD 305599 G288.1505-00.5059        B0Ib ...   0.052 0.00405     1.9\n",
       "  413        HD 93683 G288.3138-01.3085         O9V ...   0.188 0.00746     1.6"
      ]
     },
     "execution_count": 44,
     "metadata": {},
     "output_type": "execute_result"
    }
   ],
   "source": [
    "colnames = tt.colnames[0:5] + ['L4', 'R0']\n",
    "ttt = tt[colnames]\n",
    "ttt['tau'] = np.round(2*tt['LIR/L* will'], decimals=5)\n",
    "ttt['H/R'] =np.round(tt['Height'] / tt['R0_as'], decimals=2)\n",
    "ttt"
   ]
  },
  {
   "cell_type": "code",
   "execution_count": null,
   "metadata": {},
   "outputs": [],
   "source": []
  }
 ],
 "metadata": {
  "kernelspec": {
   "display_name": "Python 3",
   "language": "python",
   "name": "python3"
  },
  "language_info": {
   "codemirror_mode": {
    "name": "ipython",
    "version": 3
   },
   "file_extension": ".py",
   "mimetype": "text/x-python",
   "name": "python",
   "nbconvert_exporter": "python",
   "pygments_lexer": "ipython3",
   "version": "3.6.3"
  },
  "main_language": "python"
 },
 "nbformat": 4,
 "nbformat_minor": 2
}
